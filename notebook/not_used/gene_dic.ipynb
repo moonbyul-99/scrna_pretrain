{
 "cells": [
  {
   "cell_type": "code",
   "execution_count": 3,
   "metadata": {},
   "outputs": [],
   "source": [
    "import numpy as np\n",
    "import pandas as pd \n",
    "import os \n",
    "import scanpy as sc \n",
    "import matplotlib.pyplot as plt \n",
    "import scanpy as sc \n",
    "import h5py"
   ]
  },
  {
   "cell_type": "code",
   "execution_count": 4,
   "metadata": {},
   "outputs": [],
   "source": [
    "allen_23 = pd.read_csv('allen_23_var.csv')\n",
    "\n",
    "f = h5py.File(r\"D:\\sly_data\\mus_brain_ref_data\\CTX_Hip_counts_10x.h5\",'r')\n",
    "allen_21 = f['data']['gene'][:].astype('U') \n",
    "\n",
    "scdata = sc.read_h5ad('personal_data/mus_brain/scdata.h5ad')\n",
    "gex_info = scdata.var.copy()\n",
    "\n",
    "del scdata"
   ]
  },
  {
   "cell_type": "code",
   "execution_count": 13,
   "metadata": {},
   "outputs": [],
   "source": [
    "assert (gex_info.gene_ids.values == allen_23.loc[:,'gene_identifier'].values).all()\n",
    "#assert (gex_info.index.values == allen_23.loc[:,'gene_symbol'].values).all()"
   ]
  },
  {
   "cell_type": "code",
   "execution_count": 17,
   "metadata": {},
   "outputs": [
    {
     "name": "stdout",
     "output_type": "stream",
     "text": [
      "allen_21 mus has unique gene symbol\n"
     ]
    }
   ],
   "source": [
    "assert (np.unique(allen_21).shape == allen_21.shape)\n",
    "print('allen_21 mus has unique gene symbol')\n"
   ]
  },
  {
   "cell_type": "code",
   "execution_count": 19,
   "metadata": {},
   "outputs": [
    {
     "name": "stdout",
     "output_type": "stream",
     "text": [
      "(33524,)\n"
     ]
    }
   ],
   "source": [
    "total_gene = np.union1d(gex_info.index.values, allen_21)\n",
    "print(total_gene.shape)"
   ]
  },
  {
   "cell_type": "code",
   "execution_count": 20,
   "metadata": {},
   "outputs": [],
   "source": [
    "gene_dic = {}\n",
    "\n",
    "for i, gene in enumerate(total_gene):\n",
    "    gene_dic[gene] = i \n",
    "\n",
    "mus_gene_0 = gex_info.index.values\n",
    "mus_gene_1 = allen_21\n",
    "\n",
    "mus_gene_id_0 = [gene_dic[gene] for gene in mus_gene_0]\n",
    "mus_gene_id_1 = [gene_dic[gene] for gene in mus_gene_1] \n",
    "\n"
   ]
  },
  {
   "cell_type": "code",
   "execution_count": 24,
   "metadata": {},
   "outputs": [],
   "source": [
    "import json \n",
    "\n",
    "with open('../gene_dict/gene_dict.json', 'w') as f:\n",
    "    json.dump(gene_dic, f) \n",
    "\n",
    "\n",
    "np.save('../gene_dict/mus_gene_0.npy', mus_gene_0)\n",
    "np.save('../gene_dict/mus_gene_1.npy', mus_gene_1)\n",
    "np.save('../gene_dict/mus_gene_id_0.npy', mus_gene_id_0)\n",
    "np.save('../gene_dict/mus_gene_id_1.npy', mus_gene_id_1)"
   ]
  },
  {
   "cell_type": "code",
   "execution_count": null,
   "metadata": {},
   "outputs": [],
   "source": []
  }
 ],
 "metadata": {
  "kernelspec": {
   "display_name": "scvi",
   "language": "python",
   "name": "python3"
  },
  "language_info": {
   "codemirror_mode": {
    "name": "ipython",
    "version": 3
   },
   "file_extension": ".py",
   "mimetype": "text/x-python",
   "name": "python",
   "nbconvert_exporter": "python",
   "pygments_lexer": "ipython3",
   "version": "3.9.18"
  }
 },
 "nbformat": 4,
 "nbformat_minor": 2
}
