{
 "cells": [
  {
   "cell_type": "code",
   "execution_count": 17,
   "metadata": {},
   "outputs": [
    {
     "ename": "ModuleNotFoundError",
     "evalue": "No module named 'datasets'",
     "output_type": "error",
     "traceback": [
      "\u001b[0;31m---------------------------------------------------------------------------\u001b[0m",
      "\u001b[0;31mModuleNotFoundError\u001b[0m                       Traceback (most recent call last)",
      "Cell \u001b[0;32mIn[17], line 7\u001b[0m\n\u001b[1;32m      5\u001b[0m \u001b[38;5;28;01mfrom\u001b[39;00m \u001b[38;5;21;01mtqdm\u001b[39;00m \u001b[38;5;28;01mimport\u001b[39;00m tqdm\n\u001b[1;32m      6\u001b[0m \u001b[38;5;28;01mimport\u001b[39;00m \u001b[38;5;21;01mpyarrow\u001b[39;00m\n\u001b[0;32m----> 7\u001b[0m \u001b[38;5;28;01mfrom\u001b[39;00m \u001b[38;5;21;01mdatasets\u001b[39;00m \u001b[38;5;28;01mimport\u001b[39;00m load_dataset \n\u001b[1;32m      8\u001b[0m \u001b[38;5;28;01mimport\u001b[39;00m \u001b[38;5;21;01mtorch\u001b[39;00m \n\u001b[1;32m      9\u001b[0m \u001b[38;5;28;01mimport\u001b[39;00m \u001b[38;5;21;01mtorch\u001b[39;00m\u001b[38;5;21;01m.\u001b[39;00m\u001b[38;5;21;01mnn\u001b[39;00m \u001b[38;5;28;01mas\u001b[39;00m \u001b[38;5;21;01mnn\u001b[39;00m \n",
      "\u001b[0;31mModuleNotFoundError\u001b[0m: No module named 'datasets'"
     ]
    }
   ],
   "source": [
    "import numpy as np \n",
    "import pandas as pd \n",
    "import os \n",
    "import h5py\n",
    "from tqdm import tqdm\n",
    "import pyarrow\n",
    "from datasets import load_dataset \n",
    "import torch \n",
    "import torch.nn as nn \n",
    "import time \n",
    "from torch.utils.data import Dataset, DataLoader\n",
    "import matplotlib.pyplot as plt \n",
    "import torch.nn.functional as F\n",
    "import sys \n",
    "sys.path.append('../code')\n",
    "import utils\n",
    "import model \n",
    "import loss \n",
    "import json \n",
    "import scanpy as sc"
   ]
  },
  {
   "cell_type": "markdown",
   "metadata": {},
   "source": [
    "## 保存不同数据集对应的特征信息\n"
   ]
  },
  {
   "cell_type": "code",
   "execution_count": 2,
   "metadata": {},
   "outputs": [],
   "source": [
    "mus_gene_0 = np.load('../gene_dict/mus_gene_0.npy',allow_pickle=True)\n",
    "mus_gene_1 = np.load('../gene_dict/mus_gene_1.npy',allow_pickle=True)\n",
    "\n",
    "mus_gene_0_id = np.load('../gene_dict/mus_gene_id_0.npy',allow_pickle=True)\n",
    "mus_gene_1_id = np.load('../gene_dict/mus_gene_id_1.npy',allow_pickle=True)\n",
    "\n",
    "dataset_gene = {}\n",
    "\n",
    "dataset_gene['mus_gene_0'] = list(mus_gene_0) \n",
    "dataset_gene['mus_gene_1'] = list(mus_gene_1) \n",
    "\n",
    "dataset_gene_ids = {}\n",
    "\n",
    "dataset_gene_ids['mus_gene_0'] = list(map(int,mus_gene_0_id))\n",
    "dataset_gene_ids['mus_gene_1'] = list(map(int,mus_gene_1_id))\n",
    "\n",
    "with open('../gene_dict/dataset_gene_info.json','w') as f:\n",
    "    json.dump(dataset_gene,f) \n",
    "\n",
    "with open('../gene_dict/dataset_gene_ids_info.json','w') as f:\n",
    "    json.dump(dataset_gene_ids,f)"
   ]
  },
  {
   "cell_type": "markdown",
   "metadata": {},
   "source": [
    "## 将单细胞数据转换成如下形式 \n",
    "\n",
    "expression count, gene_ids_identifier, meta_info"
   ]
  },
  {
   "cell_type": "code",
   "execution_count": 3,
   "metadata": {},
   "outputs": [
    {
     "data": {
      "text/plain": [
       "AnnData object with n_obs × n_vars = 83563 × 32285\n",
       "    obs: 'batch'\n",
       "    var: 'gene_ids', 'feature_types'"
      ]
     },
     "execution_count": 3,
     "metadata": {},
     "output_type": "execute_result"
    }
   ],
   "source": [
    "scdata = sc.read_h5ad('personal_data/mus_brain/scdata.h5ad')\n",
    "\n",
    "scdata"
   ]
  },
  {
   "cell_type": "code",
   "execution_count": 4,
   "metadata": {},
   "outputs": [
    {
     "data": {
      "text/plain": [
       "{'batch': 'mbq'}"
      ]
     },
     "execution_count": 4,
     "metadata": {},
     "output_type": "execute_result"
    }
   ],
   "source": [
    "dict(scdata.obs.iloc[0,:])"
   ]
  },
  {
   "cell_type": "code",
   "execution_count": 5,
   "metadata": {},
   "outputs": [
    {
     "name": "stderr",
     "output_type": "stream",
     "text": [
      "100%|██████████| 1000/1000 [00:00<00:00, 4058.99it/s]\n"
     ]
    }
   ],
   "source": [
    "from tqdm import tqdm \n",
    "#N = scdata.shape[0]\n",
    "N = 1000\n",
    "\n",
    "if not os.path.exists('mus_brain'):\n",
    "    os.makedirs('mus_brain')\n",
    "\n",
    "gene_id_identifier = 'mus_gene_0'\n",
    "data_source = 'personal_data_mus_brain_multiomics'\n",
    "\n",
    "data_dic_list = []\n",
    "#with open('mus_brain/scdata.json', 'w') as f:\n",
    "for i in tqdm(range(N)):\n",
    "    count = np.array(scdata.X[i,:].todense()).astype(int).reshape(-1)\n",
    "    cell_id = scdata.obs.index[i]\n",
    "    meta_info = dict(scdata.obs.iloc[i,:])\n",
    "    meta_info['cell_id'] = cell_id \n",
    "    meta_info['source'] = data_source \n",
    "\n",
    "    data_dic = {'count': count, \n",
    "                     'gene_id_identifier': gene_id_identifier, \n",
    "                     'meta_info': meta_info}\n",
    "    data_dic_list.append(data_dic)\n"
   ]
  },
  {
   "cell_type": "code",
   "execution_count": 6,
   "metadata": {},
   "outputs": [],
   "source": [
    "df = pd.DataFrame(data_dic_list)\n",
    "output_file = 'mus_brain/scdata.parquet'\n",
    "\n",
    "df.to_parquet(output_file, engine = 'pyarrow')"
   ]
  },
  {
   "cell_type": "markdown",
   "metadata": {},
   "source": [
    "## 使用datasets创建dataset"
   ]
  },
  {
   "cell_type": "code",
   "execution_count": 33,
   "metadata": {},
   "outputs": [],
   "source": [
    "from datasets import load_dataset \n",
    "#os.makedirs('huggingface_cache')\n",
    "\n",
    "dataset_1 = load_dataset(path = 'mus_brain', cache_dir = 'huggingface_cache')"
   ]
  },
  {
   "cell_type": "markdown",
   "metadata": {},
   "source": [
    "## 类似的处理allen_21 allen_23 数据集"
   ]
  },
  {
   "cell_type": "code",
   "execution_count": 154,
   "metadata": {},
   "outputs": [
    {
     "name": "stderr",
     "output_type": "stream",
     "text": [
      "100%|██████████| 1000/1000 [00:00<00:00, 11913.23it/s]\n",
      "Generating train split: 1000 examples [00:01, 902.12 examples/s]\n"
     ]
    }
   ],
   "source": [
    "#f = h5py.File(r\"D:\\sly_data\\mus_brain_ref_data\\CTX_Hip_counts_10x.h5\",'r')\n",
    "\n",
    "N = 1000\n",
    "\n",
    "if not os.path.exists('allen_23'):\n",
    "    os.makedirs('allen_23')\n",
    "\n",
    "counts = np.array(scdata.X[:N,:].todense()).astype(int)\n",
    "gene_id_identifier = 'mus_gene_0'\n",
    "data_source = 'allen_23_mus_brain_scrna'\n",
    "cell_ids = scdata.obs.index.values[:N]\n",
    "cell_meta_info = scdata.obs.iloc[:N,:]\n",
    "\n",
    "data_dic_list = []\n",
    "#with open('mus_brain/scdata.json', 'w') as f:\n",
    "for i in tqdm(range(N)):\n",
    "    count = counts[i,:]\n",
    "\n",
    "    meta_info = dict(cell_meta_info.iloc[i,:])\n",
    "    meta_info['cell_id'] = cell_ids[i] \n",
    "    meta_info['source'] = data_source \n",
    "\n",
    "    data_dic = {'count': count, \n",
    "                     'gene_id_identifier': gene_id_identifier, \n",
    "                     'meta_info': meta_info}\n",
    "    data_dic_list.append(data_dic)\n",
    "\n",
    "df = pd.DataFrame(data_dic_list)\n",
    "output_file = 'allen_23/scdata.parquet'\n",
    "\n",
    "df.to_parquet(output_file, engine = 'pyarrow')\n",
    "\n",
    "dataset_3 = load_dataset(path = 'allen_23', cache_dir = 'huggingface_cache')"
   ]
  },
  {
   "cell_type": "code",
   "execution_count": 155,
   "metadata": {},
   "outputs": [
    {
     "data": {
      "text/plain": [
       "dict_keys(['mus_gene_0', 'mus_gene_1'])"
      ]
     },
     "execution_count": 155,
     "metadata": {},
     "output_type": "execute_result"
    }
   ],
   "source": [
    "dataset_gene_ids.keys()"
   ]
  },
  {
   "cell_type": "code",
   "execution_count": 156,
   "metadata": {},
   "outputs": [
    {
     "data": {
      "text/plain": [
       "DatasetDict({\n",
       "    train: Dataset({\n",
       "        features: ['count', 'gene_id_identifier', 'meta_info'],\n",
       "        num_rows: 1000\n",
       "    })\n",
       "})"
      ]
     },
     "execution_count": 156,
     "metadata": {},
     "output_type": "execute_result"
    }
   ],
   "source": [
    "dataset_2 = load_dataset(path = 'allen_21', cache_dir = 'huggingface_cache')\n",
    "dataset_2"
   ]
  },
  {
   "cell_type": "markdown",
   "metadata": {},
   "source": [
    "## 创建新的tokenizer"
   ]
  },
  {
   "cell_type": "code",
   "execution_count": 295,
   "metadata": {},
   "outputs": [],
   "source": [
    "class tokenizer_v1:\n",
    "    def __init__(self,gene_dict, dataset_gene, dataset_gene_ids):\n",
    "        self.gene_dict = gene_dict \n",
    "        self.dataset_gene = dataset_gene\n",
    "        self.dataset_gene_ids = dataset_gene_ids\n",
    "        #self.vocab_size = len(gene_dict)\n",
    "\n",
    "    @property\n",
    "    def vocab_size(self):\n",
    "        \"\"\"返回词汇表大小\"\"\"\n",
    "        return len(self.gene_dict)\n",
    "\n",
    "\n",
    "    def add_token(self, token, index = None):\n",
    "        if index is None:\n",
    "            index = self.vocab_size\n",
    "        if token not in self.gene_dict:\n",
    "            if index not in self.gene_dict.values():\n",
    "                self.gene_dict[token] = index\n",
    "            else:\n",
    "                raise ValueError(\"index already exists\")\n",
    "        \n",
    "\n",
    "\n",
    "    def get_token_id(self, ids, gene_id_identifier):\n",
    "        # ids is a list\n",
    "        return self.dataset_gene_ids[gene_id_identifier][ids]\n",
    "    \n",
    "    def get_token_name(self, ids, gene_id_identifier):\n",
    "        return self.dataset_gene[gene_id_identifier][ids]"
   ]
  },
  {
   "cell_type": "code",
   "execution_count": 296,
   "metadata": {},
   "outputs": [],
   "source": [
    "import json\n",
    "\n",
    "# 指定json文件路径\n",
    "file_path = '../gene_dict/gene_dict.json'\n",
    "\n",
    "# 使用with语句打开文件，这样可以自动管理文件关闭\n",
    "with open(file_path, 'r', encoding='utf-8') as file:\n",
    "    # 使用json.load()方法加载文件内容到字典\n",
    "    gene_dict = json.load(file)\n",
    "\n",
    "for key in dataset_gene:\n",
    "    dataset_gene[key] = np.array(dataset_gene[key])\n",
    "\n",
    "for key in dataset_gene_ids:\n",
    "    dataset_gene_ids[key] = np.array(dataset_gene_ids[key])\n",
    "\n",
    "tokenizer = tokenizer_v1(gene_dict= gene_dict,\n",
    "                         dataset_gene= dataset_gene,\n",
    "                         dataset_gene_ids= dataset_gene_ids)\n"
   ]
  },
  {
   "cell_type": "code",
   "execution_count": 159,
   "metadata": {},
   "outputs": [
    {
     "data": {
      "text/plain": [
       "array(['Gm1992', 'Gm19938', 'Gm37381', 'Rp1', 'Sox17'], dtype='<U16')"
      ]
     },
     "execution_count": 159,
     "metadata": {},
     "output_type": "execute_result"
    }
   ],
   "source": [
    "tokenizer.get_token_name(gene_id_identifier='mus_gene_0', ids = [1,2,3,4,5])"
   ]
  },
  {
   "cell_type": "code",
   "execution_count": 160,
   "metadata": {},
   "outputs": [
    {
     "data": {
      "text/plain": [
       "array([12076, 12079, 15172, 27596, 29245])"
      ]
     },
     "execution_count": 160,
     "metadata": {},
     "output_type": "execute_result"
    }
   ],
   "source": [
    "tokenizer.get_token_id(gene_id_identifier='mus_gene_0', ids = [1,2,3,4,5])"
   ]
  },
  {
   "cell_type": "markdown",
   "metadata": {},
   "source": [
    "## 整合三个数据集"
   ]
  },
  {
   "cell_type": "code",
   "execution_count": 161,
   "metadata": {},
   "outputs": [],
   "source": [
    "import torch\n",
    "from torch.utils.data import Dataset\n",
    "\n",
    "class CustomDataset(Dataset):\n",
    "    def __init__(self, datasets):\n",
    "        self.datasets = datasets\n",
    "\n",
    "    def __len__(self):\n",
    "        # 返回所有数据集的总长度\n",
    "        return sum(len(dataset) for dataset in self.datasets)\n",
    "\n",
    "    def __getitem__(self, idx):\n",
    "        # 找出哪个数据集包含索引 idx，并返回相应的样本\n",
    "        total_len = 0\n",
    "        for i, dataset in enumerate(self.datasets):\n",
    "            if idx < len(dataset) + total_len:\n",
    "                return self.datasets[i][idx - total_len]\n",
    "            total_len += len(dataset)\n",
    "        \n",
    "        raise IndexError(\"Index out of range\")"
   ]
  },
  {
   "cell_type": "code",
   "execution_count": 162,
   "metadata": {},
   "outputs": [],
   "source": [
    "# 创建自定义数据集实例\n",
    "combined_dataset = CustomDataset([dataset_1['train'], dataset_2['train'], dataset_3['train']])"
   ]
  },
  {
   "cell_type": "markdown",
   "metadata": {},
   "source": [
    "## 创建dataloader"
   ]
  },
  {
   "cell_type": "code",
   "execution_count": 206,
   "metadata": {},
   "outputs": [],
   "source": [
    "def gene_sample_1(count, max_num, rho = 0.1, pad_idx = -1):\n",
    "    # sample stratege 1:\n",
    "    # for cells with expressed gene num greater than max_num, random sample rho*max_num expressed gene and (1-rho)*max_num not expressed gene\n",
    "    # for cells with expressed gene num less than max_num, take all expressed gene and min(max_num - L_pos, L_pos) not expressed gene \n",
    "\n",
    "    # the probability of non-expressed gene being sampled is zero if based on counts\n",
    "    # provide a pseudo count, such that the non-expressed gene being sampled is rho  \n",
    "    # we have (N_neg*\\eta)/(umi_count + N*\\eta) = rho \n",
    "    # then we have \\eta = rho*umi_count / (N_neg - rho*N)\n",
    "    \n",
    "\n",
    "    # rho: the probability of zero-count genes being sampled, float 0-1 , default = 0.1\n",
    "    # return sample ids \n",
    "\n",
    "    if isinstance(count, torch.Tensor) :\n",
    "        count = count.numpy()\n",
    "    if isinstance(count, list):\n",
    "        count = np.array(count)\n",
    "    umi_count = count.sum()\n",
    "    N_neg = (count == 0).sum()\n",
    "    N = count.shape[0]\n",
    "    eta = max( (rho*umi_count) / (N_neg - rho*N) , 0) \n",
    "\n",
    "    sample_prob = (count + eta)/ (umi_count + N*eta)\n",
    "\n",
    "    sample_ids = np.random.choice(np.arange(N), size = max_num, replace=False, p = sample_prob)\n",
    "    return sample_ids\n",
    "\n",
    "\n",
    "class collater():\n",
    "    def __init__(self, tokenizer, max_expression, mask_ratio, max_num, rho, pad_idx = -1):\n",
    "        self.tokenizer = tokenizer \n",
    "        self.max_num = max_num \n",
    "        self.rho = rho \n",
    "        self.pad_idx = pad_idx\n",
    "        self.max_expression = max_expression\n",
    "        self.mask_ratio = mask_ratio\n",
    "        self.gene_cls_id = tokenizer.gene_dict['<cls>']\n",
    "        self.count_mask_id = max_expression + 1 \n",
    "        self.count_cls_id = max_expression + 2\n",
    "        #self.mask_id = tokenizer.gene_dict['<mask>']\n",
    "\n",
    "    def __call__(self, batch):\n",
    "        batch_data = {} \n",
    "\n",
    "        batch_data['counts_0'] = []\n",
    "        batch_data['counts_1'] = []\n",
    "\n",
    "        batch_data['token_id_0'] = []\n",
    "        batch_data['token_id_1'] = [] \n",
    "\n",
    "        batch_data['mask_array'] = []\n",
    "\n",
    "        for sample in batch:\n",
    "            count = np.array(sample['count'])\n",
    "            gene_id_identifier = sample['gene_id_identifier'] \n",
    "\n",
    "            # perform down sample\n",
    "            sample_ids_0 = gene_sample_1(count, max_num = self.max_num, rho = self.rho, pad_idx= self.pad_idx)\n",
    "            sample_ids_1 = gene_sample_1(count, max_num = self.max_num, rho = self.rho, pad_idx= self.pad_idx)\n",
    "\n",
    "            # encode gene_id towards number id \n",
    "            token_id_0 = tokenizer.get_token_id(ids = sample_ids_0 ,gene_id_identifier= gene_id_identifier)\n",
    "            token_id_1 = tokenizer.get_token_id(ids = sample_ids_1 ,gene_id_identifier= gene_id_identifier) \n",
    "\n",
    "            # clip the counts \n",
    "\n",
    "            counts_0 = np.clip(count[sample_ids_0], a_min = 0, a_max = self.max_expression)\n",
    "            counts_1 = np.clip(count[sample_ids_1], a_min = 0, a_max = self.max_expression) \n",
    "\n",
    "            # mask the counts \n",
    "            mask_array = np.random.choice([True, False], size= self.max_num, p=[self.mask_ratio, 1-self.mask_ratio]) \n",
    "\n",
    "            # add the cls token in counts and token_id\n",
    "\n",
    "            #counts_0[mask_array] = self.count_mask_id \n",
    "            #counts_1[mask_array] = self.count_mask_id \n",
    "\n",
    "\n",
    "            token_id_0 = np.insert(token_id_0, 0, self.gene_cls_id)\n",
    "            token_id_1 = np.insert(token_id_1, 0, self.gene_cls_id) \n",
    "\n",
    "            counts_0 = np.insert(counts_0, 0, self.count_cls_id) \n",
    "            counts_1 = np.insert(counts_1, 0, self.count_cls_id) \n",
    "\n",
    "            mask_array = np.insert(mask_array, 0, False) \n",
    "\n",
    "            # add to batch_data \n",
    "            batch_data['counts_0'].append(counts_0)\n",
    "            batch_data['counts_1'].append(counts_1)\n",
    "            batch_data['token_id_0'].append(token_id_0)\n",
    "            batch_data['token_id_1'].append(token_id_1)\n",
    "            batch_data['mask_array'].append(mask_array)\n",
    "\n",
    "\n",
    "        batch_data['counts_0'] = torch.tensor(batch_data['counts_0'], dtype = torch.int)\n",
    "        batch_data['counts_1'] = torch.tensor(batch_data['counts_1'], dtype = torch.int) \n",
    "\n",
    "        batch_data['counts_0'] = batch_data['counts_0'].long()\n",
    "        batch_data['counts_1'] = batch_data['counts_1'].long()\n",
    "\n",
    "        batch_data['token_id_0'] = torch.tensor(batch_data['token_id_0'], dtype = torch.int)\n",
    "        batch_data['token_id_1'] = torch.tensor(batch_data['token_id_1'], dtype = torch.int)\n",
    "        batch_data['mask_array'] = torch.tensor(batch_data['mask_array'], dtype = torch.bool) \n",
    "\n",
    "        counts = torch.cat((batch_data['counts_0'], batch_data['counts_1']))\n",
    "        token_id = torch.cat((batch_data['token_id_0'], batch_data['token_id_1']))\n",
    "        mask_array = torch.cat((batch_data['mask_array'], batch_data['mask_array'])) \n",
    "        label = counts[mask_array]\n",
    "        counts[mask_array] = self.count_mask_id\n",
    "        \n",
    "        return (counts, token_id, mask_array, label)"
   ]
  },
  {
   "cell_type": "code",
   "execution_count": 297,
   "metadata": {},
   "outputs": [
    {
     "name": "stdout",
     "output_type": "stream",
     "text": [
      "33524\n",
      "33525\n",
      "33524\n"
     ]
    }
   ],
   "source": [
    "vocab_size = tokenizer.vocab_size\n",
    "print(vocab_size)\n",
    "\n",
    "tokenizer.add_token(token = '<cls>')\n",
    "#tokenizer.gene_dict['<cls>'] = vocab_size\n",
    "print(tokenizer.vocab_size)\n",
    "print(tokenizer.gene_dict['<cls>'])\n",
    "collate_fn = collater(tokenizer= tokenizer, max_expression= 100, mask_ratio = 0.1, max_num = 6000,  rho = 0.1)"
   ]
  },
  {
   "cell_type": "code",
   "execution_count": 298,
   "metadata": {},
   "outputs": [
    {
     "name": "stderr",
     "output_type": "stream",
     "text": [
      "Processing:   0%|          | 0/94 [00:00<?, ?it/s]C:\\Users\\sunrui\\AppData\\Local\\Temp\\ipykernel_11524\\26062057.py:104: DeprecationWarning: In future, it will be an error for 'np.bool_' scalars to be interpreted as an index\n",
      "  batch_data['mask_array'] = torch.tensor(batch_data['mask_array'], dtype = torch.bool)\n",
      "Processing: 100%|██████████| 94/94 [04:04<00:00,  2.60s/it]\n"
     ]
    }
   ],
   "source": [
    "from torch.utils.data import DataLoader\n",
    "from tqdm import tqdm \n",
    "# 创建 DataLoader 实例\n",
    "batch_size = 32\n",
    "data_loader = DataLoader(combined_dataset, batch_size=batch_size, shuffle=True, collate_fn= collate_fn)\n",
    "\n",
    "token_count = {}\n",
    "for i in range(tokenizer.vocab_size + 1):\n",
    "    token_count[i] = 0 \n",
    "# 迭代数据\n",
    "for i,batch in tqdm(enumerate(data_loader),desc = 'Processing',total =len(data_loader)):\n",
    "    #counts = torch.cat((batch['counts_0'], batch['counts_1']))\n",
    "    #token_id = torch.cat((batch['token_id_0'], batch['token_id_1']))\n",
    "    #mask_array = torch.cat((batch['mask_array'], batch['mask_array'])) \n",
    "    counts, token_id, mask_array, label = batch\n",
    "    for ele in token_id.view(-1):\n",
    "        token_count[ele.item()] += 1    "
   ]
  },
  {
   "cell_type": "code",
   "execution_count": 299,
   "metadata": {},
   "outputs": [
    {
     "data": {
      "image/png": "[encoded data removed]",
      "text/plain": [
       "<Figure size 640x480 with 1 Axes>"
      ]
     },
     "metadata": {},
     "output_type": "display_data"
    }
   ],
   "source": [
    "import matplotlib.pyplot as plt \n",
    "res = np.array(list(token_count.values()))\n",
    "plt.hist(res, bins = 100)\n",
    "plt.show()"
   ]
  },
  {
   "cell_type": "code",
   "execution_count": null,
   "metadata": {},
   "outputs": [],
   "source": []
  }
 ],
 "metadata": {
  "kernelspec": {
   "display_name": "scanpy",
   "language": "python",
   "name": "scanpy"
  },
  "language_info": {
   "codemirror_mode": {
    "name": "ipython",
    "version": 3
   },
   "file_extension": ".py",
   "mimetype": "text/x-python",
   "name": "python",
   "nbconvert_exporter": "python",
   "pygments_lexer": "ipython3",
   "version": "3.11.4"
  }
 },
 "nbformat": 4,
 "nbformat_minor": 2
}
