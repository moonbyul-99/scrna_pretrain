{
 "cells": [
  {
   "cell_type": "code",
   "execution_count": 1,
   "metadata": {},
   "outputs": [
    {
     "name": "stderr",
     "output_type": "stream",
     "text": [
      "d:\\Anaconda\\envs\\scvi\\lib\\site-packages\\tqdm\\auto.py:21: TqdmWarning: IProgress not found. Please update jupyter and ipywidgets. See https://ipywidgets.readthedocs.io/en/stable/user_install.html\n",
      "  from .autonotebook import tqdm as notebook_tqdm\n"
     ]
    }
   ],
   "source": [
    "import numpy as np \n",
    "import pandas as pd \n",
    "import os \n",
    "import h5py\n",
    "from tqdm import tqdm\n",
    "import pyarrow\n",
    "from datasets import load_dataset \n",
    "import torch \n",
    "import torch.nn as nn \n",
    "import time \n",
    "from torch.utils.data import Dataset, DataLoader\n",
    "import matplotlib.pyplot as plt \n",
    "import torch.nn.functional as F\n",
    "import sys \n",
    "sys.path.append('../code')\n",
    "import utils\n",
    "import model \n",
    "import loss "
   ]
  },
  {
   "cell_type": "code",
   "execution_count": 2,
   "metadata": {},
   "outputs": [],
   "source": [
    "## allen brain 小鼠海马 21年工作\n",
    "\n",
    "f = h5py.File(r\"D:\\sly_data\\mus_brain_ref_data\\CTX_Hip_counts_10x.h5\",'r')\n",
    "#anno = pd.read_csv(r\"D:\\sly_data\\mus_brain_ref_data\\CTX_Hip_anno_10x.csv\\CTX_Hip_anno_10x\\CTX_Hip_anno_10x.csv\")\n",
    "\n",
    "## 这里f['data']['count']的数值类型是Int32\n",
    "\n",
    "gene = f['data']['gene'][:].astype('U')\n",
    "sample = f['data']['samples'][:].astype('U')\n",
    "#count = f['data']['counts'][:,:500].T \n",
    "\n",
    "#np.save(count)\n",
    "#print(anno.shape, sample.shape)"
   ]
  },
  {
   "cell_type": "code",
   "execution_count": 9,
   "metadata": {},
   "outputs": [],
   "source": [
    "#count = f['data']['counts'][:,:500].T "
   ]
  },
  {
   "cell_type": "code",
   "execution_count": 28,
   "metadata": {},
   "outputs": [
    {
     "data": {
      "image/png": "[encoded data removed]",
      "text/plain": [
       "<Figure size 640x480 with 1 Axes>"
      ]
     },
     "metadata": {},
     "output_type": "display_data"
    }
   ],
   "source": [
    "'''\n",
    "res = []\n",
    "for i in range(0,sample.shape[0],1000):\n",
    "    tmp = f['data']['counts'][:,i:min(i+1000,sample.shape[0])]\n",
    "    res.append((tmp > 0).sum(axis = 0))\n",
    "    print(i)\n",
    "'''\n",
    "\n",
    "res = np.concatenate(res)\n",
    "plt.hist(res, bins = 30)\n",
    "plt.show()"
   ]
  },
  {
   "cell_type": "code",
   "execution_count": 29,
   "metadata": {},
   "outputs": [
    {
     "name": "stdout",
     "output_type": "stream",
     "text": [
      "pos gene num less than 1000  : 0\n",
      "pos gene num less than 2000  : 11736\n",
      "pos gene num less than 3000  : 227422\n",
      "pos gene num less than 4000  : 541338\n",
      "pos gene num less than 5000  : 879656\n",
      "pos gene num less than 6000  : 1102614\n",
      "pos gene num less than 7000  : 1163486\n",
      "pos gene num less than 8000  : 1169060\n",
      "pos gene num less than 9000  : 1169213\n"
     ]
    }
   ],
   "source": [
    "for i in range(1000, 10000, 1000):\n",
    "    print(f'pos gene num less than {i}  : {(res<=i).sum()}')"
   ]
  },
  {
   "cell_type": "code",
   "execution_count": 11,
   "metadata": {},
   "outputs": [],
   "source": [
    "\n",
    "'''\n",
    "pytorch, 根据h5文件创建dataloader, 一直h5文件中包含3个key-value对， counts 是一个feature*sample大小的矩阵，记录着样本信息，gene是一个feature大小的array，记录着\n",
    "feature的名称, sample 是一个sample大小的 array，记录着样本的名称，希望据此创建一个dataset， get_item 能够返回样本的count信息，之后根据这个dataset创建一个dataloader,\n",
    "dataloader中要做如下处理, 对每一个样本，根据其count信息进行抽样，返回subcount 和对应的sub_gene的array。每个样本要进行两次抽样，返回两个子样本用于后续的对比学习\n",
    "'''\n",
    "import h5py\n",
    "import torch\n",
    "from torch.utils.data import Dataset, DataLoader\n",
    "\n",
    "class HDF5Dataset(Dataset):\n",
    "    def __init__(self, file_path, transform=None):\n",
    "        super(HDF5Dataset, self).__init__()\n",
    "        # 打开HDF5文件\n",
    "        self.h5file = h5py.File(file_path, 'r')\n",
    "        self.counts = self.h5file['data']['counts'][:,:2500]\n",
    "        #self.counts = self.h5file['data']['counts']\n",
    "        self.gene = self.h5file['data']['gene'][:].astype('U')\n",
    "        self.sample = self.h5file['data']['samples'][:2500].astype('U')\n",
    "        self.transform = transform\n",
    "\n",
    "    def __len__(self):\n",
    "        # 返回样本数量\n",
    "        return len(self.sample)\n",
    "\n",
    "    def __getitem__(self, index):\n",
    "        # 获取指定索引的样本的count信息\n",
    "        count_info = self.counts[:, index]\n",
    "        #count_info = self.h5file['data']['counts'][:, index]\n",
    "        \n",
    "        # 返回原始的count信息 , np.array\n",
    "        return count_info\n",
    "\n",
    "def gene_sample_1(count, gene, max_num, rho, pad_idx = -1):\n",
    "    # sample stratege 1:\n",
    "    # for cells with expressed gene num greater than max_num, random sample rho*max_num expressed gene and (1-rho)*max_num not expressed gene\n",
    "    # for cells with expressed gene num less than max_num, take all expressed gene and min(max_num - L_pos, L_pos) not expressed gene\n",
    "\n",
    "    # pos_gene_ids: expressed genes ids, no special token\n",
    "    # pos_gene_exp: expressed genes expression, no special token\n",
    "    # neg_gene_ids: not expressed genes ids, no special token\n",
    "    # max_num: max_seq_lengths \n",
    "    # rho: sample rate 0-1 \n",
    "\n",
    "    if isinstance(count, torch.Tensor) :\n",
    "        count = count.numpy()\n",
    "    umi_count = count.sum()\n",
    "    pos_num = (count > 0).sum()\n",
    "    N = count.shape[0]\n",
    "    eta = umi_count / (rho*(N-pos_num) + pos_num) \n",
    "\n",
    "    sample_prob = (count + eta)/ (umi_count + N*eta)\n",
    "    #sample_prob = pseudo_count/umi_count\n",
    "\n",
    "    if pos_num >= max_num:\n",
    "        indices = np.random.choice(np.arange(N), size = max_num, replace=False, p = sample_prob)\n",
    "        sub_count = count[indices]\n",
    "        sub_gene = gene[indices] \n",
    "    \n",
    "    else:\n",
    "        pos_gene_ids = np.where(count > 0)[0] \n",
    "        neg_gene_ids = np.random.choice(np.where(count == 0)[0],size = max_num - pos_num, replace=False) \n",
    "        indices = np.concatenate([pos_gene_ids, neg_gene_ids]) \n",
    "        sub_count = count[indices]\n",
    "        sub_gene = gene[indices]\n",
    "    \n",
    "    return (sub_count, sub_gene)\n",
    "\n",
    "class collater(object):\n",
    "    def __init__(self, gene,max_num, rho,pad_idx):\n",
    "        self.gene = gene \n",
    "        self.max_num = max_num \n",
    "        self.rho = rho\n",
    "        self.pad_idx = pad_idx\n",
    "    \n",
    "    def __call__(self, batch):\n",
    "        count_infos = batch\n",
    "        \n",
    "        # 初始化子样本列表\n",
    "        subcounts1, subgenes1, subcounts2, subgenes2 = [], [], [], []\n",
    "        \n",
    "        for i, count_info in enumerate(count_infos):\n",
    "            # 对每个样本进行两次独立采样\n",
    "            subcount1, sub_gene1 = gene_sample_1(count_info, gene=self.gene, max_num = self.max_num, rho = self.rho, pad_idx = self.pad_idx)\n",
    "            subcount2, sub_gene2 = gene_sample_1(count_info, gene=self.gene, max_num = self.max_num, rho = self.rho, pad_idx = self.pad_idx)\n",
    "            \n",
    "            subcounts1.append(subcount1)\n",
    "            subgenes1.append(sub_gene1)\n",
    "            subcounts2.append(subcount2)\n",
    "            subgenes2.append(sub_gene2)\n",
    "        \n",
    "        # 将子样本转换为Tensor\n",
    "        subcounts1 = np.stack(subcounts1)\n",
    "        subgenes1 = np.stack(subgenes1)\n",
    "        subcounts2 = np.stack(subcounts2)\n",
    "        subgenes2 = np.stack(subgenes2) \n",
    "        return subcounts1, subgenes1, subcounts2, subgenes2  \n"
   ]
  },
  {
   "cell_type": "code",
   "execution_count": 15,
   "metadata": {},
   "outputs": [
    {
     "name": "stdout",
     "output_type": "stream",
     "text": [
      "(128, 4096)\n",
      "time used 0.5982036590576172 seconds\n",
      "(128, 4096)\n",
      "time used 0.6010599136352539 seconds\n",
      "(128, 4096)\n",
      "time used 0.5862476825714111 seconds\n",
      "(128, 4096)\n",
      "time used 0.5897903442382812 seconds\n",
      "(128, 4096)\n",
      "time used 0.6216349601745605 seconds\n",
      "(128, 4096)\n",
      "time used 0.6046171188354492 seconds\n"
     ]
    }
   ],
   "source": [
    "collate_fn = collater(gene = gene, max_num = 4096, rho = 0.1, pad_idx=-1)\n",
    "\n",
    "\n",
    "# 创建数据集和数据加载器\n",
    "dataset = HDF5Dataset(\"D:/sly_data/mus_brain_ref_data/CTX_Hip_counts_10x.h5\")\n",
    "dataloader = DataLoader(dataset, batch_size=128, shuffle=True, collate_fn=collate_fn)\n",
    "\n",
    "\n",
    "begin = time.time()\n",
    "for idx, batch in enumerate(dataloader):\n",
    "    a = time.time()\n",
    "    print(batch[0].shape)\n",
    "    print(f'time used {a-begin} seconds')\n",
    "    begin = a \n",
    "    if idx == 5:\n",
    "        break  \n"
   ]
  },
  {
   "cell_type": "code",
   "execution_count": null,
   "metadata": {},
   "outputs": [],
   "source": []
  }
 ],
 "metadata": {
  "kernelspec": {
   "display_name": "Python 3 (ipykernel)",
   "language": "python",
   "name": "python3"
  },
  "language_info": {
   "codemirror_mode": {
    "name": "ipython",
    "version": 3
   },
   "file_extension": ".py",
   "mimetype": "text/x-python",
   "name": "python",
   "nbconvert_exporter": "python",
   "pygments_lexer": "ipython3",
   "version": "3.10.9"
  }
 },
 "nbformat": 4,
 "nbformat_minor": 2
}
