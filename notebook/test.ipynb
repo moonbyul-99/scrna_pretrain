{
 "cells": [
  {
   "cell_type": "code",
   "execution_count": 1,
   "metadata": {},
   "outputs": [
    {
     "ename": "ModuleNotFoundError",
     "evalue": "No module named 'model'",
     "output_type": "error",
     "traceback": [
      "\u001b[1;31m---------------------------------------------------------------------------\u001b[0m",
      "\u001b[1;31mModuleNotFoundError\u001b[0m                       Traceback (most recent call last)",
      "Cell \u001b[1;32mIn[1], line 13\u001b[0m\n\u001b[0;32m     11\u001b[0m \u001b[38;5;28;01mimport\u001b[39;00m \u001b[38;5;21;01mscanpy\u001b[39;00m \u001b[38;5;28;01mas\u001b[39;00m \u001b[38;5;21;01msc\u001b[39;00m\n\u001b[0;32m     12\u001b[0m \u001b[38;5;28;01mimport\u001b[39;00m \u001b[38;5;21;01mmatplotlib\u001b[39;00m\u001b[38;5;21;01m.\u001b[39;00m\u001b[38;5;21;01mpyplot\u001b[39;00m \u001b[38;5;28;01mas\u001b[39;00m \u001b[38;5;21;01mplt\u001b[39;00m \n\u001b[1;32m---> 13\u001b[0m \u001b[38;5;28;01mimport\u001b[39;00m \u001b[38;5;21;01mmodel\u001b[39;00m \n\u001b[0;32m     14\u001b[0m \u001b[38;5;28;01mimport\u001b[39;00m \u001b[38;5;21;01mtorch\u001b[39;00m\u001b[38;5;21;01m.\u001b[39;00m\u001b[38;5;21;01mnn\u001b[39;00m\u001b[38;5;21;01m.\u001b[39;00m\u001b[38;5;21;01mfunctional\u001b[39;00m \u001b[38;5;28;01mas\u001b[39;00m \u001b[38;5;21;01mF\u001b[39;00m\n",
      "\u001b[1;31mModuleNotFoundError\u001b[0m: No module named 'model'"
     ]
    }
   ],
   "source": [
    "import torch \n",
    "import torch.nn as nn \n",
    "import pandas as pd \n",
    "import numpy as np \n",
    "import os\n",
    "import time \n",
    "import sys\n",
    "from tqdm import tqdm\n",
    "from torch.utils.data import Dataset, DataLoader\n",
    "from torch.nn.utils.rnn import pad_sequence\n",
    "import scanpy as sc\n",
    "import matplotlib.pyplot as plt \n",
    "import model \n",
    "import torch.nn.functional as F"
   ]
  },
  {
   "cell_type": "code",
   "execution_count": 19,
   "metadata": {},
   "outputs": [],
   "source": [
    "count_embedding_num = 200\n",
    "gene_embedding_num = 1000\n",
    "d_model = 128\n",
    "gene_padding_idx = 0\n",
    "count_padding_idx = 101\n",
    "n_head = 8\n",
    "dim_ffn = 4*d_model\n",
    "dropout = 0.1\n",
    "layer_norm_eps =1e-5\n",
    "batch_first = True\n",
    "norm_first = False\n",
    "num_layers = 4\n",
    "norm = None\n",
    "num_hiddens = 256\n",
    "\n",
    "my_model = model.sc_pretrain(count_embedding_num,\n",
    "                 gene_embedding_num,\n",
    "                 d_model,\n",
    "                 gene_padding_idx,\n",
    "                 count_padding_idx,\n",
    "                 n_head,\n",
    "                 dim_ffn,\n",
    "                 dropout,\n",
    "                 layer_norm_eps,\n",
    "                 batch_first,\n",
    "                 norm_first,\n",
    "                 num_layers,\n",
    "                 norm,\n",
    "                 num_hiddens)"
   ]
  },
  {
   "cell_type": "code",
   "execution_count": 20,
   "metadata": {},
   "outputs": [],
   "source": [
    "gene_id = torch.randint(low = 0, high = 800,size = (4,16))\n",
    "count_id = torch.randint(low=0, high=100, size = (4,16))\n",
    "\n",
    "\n",
    "size = (4,16)\n",
    "random_float_tensor = torch.rand(size)\n",
    "bernoulli_tensor = torch.bernoulli(random_float_tensor)\n",
    "boolean_tensor = bernoulli_tensor.bool()\n",
    "mask = boolean_tensor \n",
    "\n",
    "size = (4,16)\n",
    "random_float_tensor = torch.rand(size)\n",
    "bernoulli_tensor = torch.bernoulli(random_float_tensor)\n",
    "boolean_tensor = bernoulli_tensor.bool()\n",
    "pred_positions = boolean_tensor"
   ]
  },
  {
   "cell_type": "code",
   "execution_count": 21,
   "metadata": {},
   "outputs": [
    {
     "name": "stdout",
     "output_type": "stream",
     "text": [
      "torch.Size([4, 256])\n",
      "torch.Size([29, 200])\n"
     ]
    }
   ],
   "source": [
    "cell_embed, gene_pred = my_model(gene_id, count_id, mask, pred_positions[:,1:])\n",
    "print(cell_embed.shape)\n",
    "print(gene_pred.shape)"
   ]
  },
  {
   "cell_type": "code",
   "execution_count": 27,
   "metadata": {},
   "outputs": [
    {
     "name": "stdout",
     "output_type": "stream",
     "text": [
      "torch.Size([4, 16, 128])\n",
      "torch.Size([4, 16, 128])\n"
     ]
    }
   ],
   "source": [
    "embed = model.embedding_layer(gene_id, count_id)\n",
    "print(embed.shape)\n",
    "embed = model.sc_encoder(embed, mask)\n",
    "print(embed.shape)"
   ]
  },
  {
   "cell_type": "code",
   "execution_count": 28,
   "metadata": {},
   "outputs": [
    {
     "name": "stdout",
     "output_type": "stream",
     "text": [
      "torch.Size([4, 128])\n",
      "torch.Size([4, 256])\n"
     ]
    }
   ],
   "source": [
    "cell_embed = embed[:,0,:]\n",
    "print(cell_embed.shape)\n",
    "cell_embed = model.cell_encoder(cell_embed)\n",
    "print(cell_embed.shape)"
   ]
  },
  {
   "cell_type": "code",
   "execution_count": 30,
   "metadata": {},
   "outputs": [
    {
     "data": {
      "text/plain": [
       "torch.Size([24, 128])"
      ]
     },
     "execution_count": 30,
     "metadata": {},
     "output_type": "execute_result"
    }
   ],
   "source": [
    "embed[pred_positions,:].shape"
   ]
  },
  {
   "cell_type": "code",
   "execution_count": 10,
   "metadata": {},
   "outputs": [
    {
     "ename": "IndexError",
     "evalue": "The shape of the mask [64] at index 0 does not match the shape of the indexed tensor [4, 16, 128] at index 1",
     "output_type": "error",
     "traceback": [
      "\u001b[1;31m---------------------------------------------------------------------------\u001b[0m",
      "\u001b[1;31mIndexError\u001b[0m                                Traceback (most recent call last)",
      "Cell \u001b[1;32mIn[10], line 1\u001b[0m\n\u001b[1;32m----> 1\u001b[0m gene_pred \u001b[38;5;241m=\u001b[39m \u001b[43mmodel\u001b[49m\u001b[38;5;241;43m.\u001b[39;49m\u001b[43mmask_gp\u001b[49m\u001b[43m(\u001b[49m\u001b[43membed\u001b[49m\u001b[43m,\u001b[49m\u001b[43mpred_positions\u001b[49m\u001b[43m)\u001b[49m\n",
      "File \u001b[1;32md:\\Anaconda\\envs\\scvi\\lib\\site-packages\\torch\\nn\\modules\\module.py:1511\u001b[0m, in \u001b[0;36mModule._wrapped_call_impl\u001b[1;34m(self, *args, **kwargs)\u001b[0m\n\u001b[0;32m   1509\u001b[0m     \u001b[38;5;28;01mreturn\u001b[39;00m \u001b[38;5;28mself\u001b[39m\u001b[38;5;241m.\u001b[39m_compiled_call_impl(\u001b[38;5;241m*\u001b[39margs, \u001b[38;5;241m*\u001b[39m\u001b[38;5;241m*\u001b[39mkwargs)  \u001b[38;5;66;03m# type: ignore[misc]\u001b[39;00m\n\u001b[0;32m   1510\u001b[0m \u001b[38;5;28;01melse\u001b[39;00m:\n\u001b[1;32m-> 1511\u001b[0m     \u001b[38;5;28;01mreturn\u001b[39;00m \u001b[38;5;28mself\u001b[39m\u001b[38;5;241m.\u001b[39m_call_impl(\u001b[38;5;241m*\u001b[39margs, \u001b[38;5;241m*\u001b[39m\u001b[38;5;241m*\u001b[39mkwargs)\n",
      "File \u001b[1;32md:\\Anaconda\\envs\\scvi\\lib\\site-packages\\torch\\nn\\modules\\module.py:1520\u001b[0m, in \u001b[0;36mModule._call_impl\u001b[1;34m(self, *args, **kwargs)\u001b[0m\n\u001b[0;32m   1515\u001b[0m \u001b[38;5;66;03m# If we don't have any hooks, we want to skip the rest of the logic in\u001b[39;00m\n\u001b[0;32m   1516\u001b[0m \u001b[38;5;66;03m# this function, and just call forward.\u001b[39;00m\n\u001b[0;32m   1517\u001b[0m \u001b[38;5;28;01mif\u001b[39;00m \u001b[38;5;129;01mnot\u001b[39;00m (\u001b[38;5;28mself\u001b[39m\u001b[38;5;241m.\u001b[39m_backward_hooks \u001b[38;5;129;01mor\u001b[39;00m \u001b[38;5;28mself\u001b[39m\u001b[38;5;241m.\u001b[39m_backward_pre_hooks \u001b[38;5;129;01mor\u001b[39;00m \u001b[38;5;28mself\u001b[39m\u001b[38;5;241m.\u001b[39m_forward_hooks \u001b[38;5;129;01mor\u001b[39;00m \u001b[38;5;28mself\u001b[39m\u001b[38;5;241m.\u001b[39m_forward_pre_hooks\n\u001b[0;32m   1518\u001b[0m         \u001b[38;5;129;01mor\u001b[39;00m _global_backward_pre_hooks \u001b[38;5;129;01mor\u001b[39;00m _global_backward_hooks\n\u001b[0;32m   1519\u001b[0m         \u001b[38;5;129;01mor\u001b[39;00m _global_forward_hooks \u001b[38;5;129;01mor\u001b[39;00m _global_forward_pre_hooks):\n\u001b[1;32m-> 1520\u001b[0m     \u001b[38;5;28;01mreturn\u001b[39;00m forward_call(\u001b[38;5;241m*\u001b[39margs, \u001b[38;5;241m*\u001b[39m\u001b[38;5;241m*\u001b[39mkwargs)\n\u001b[0;32m   1522\u001b[0m \u001b[38;5;28;01mtry\u001b[39;00m:\n\u001b[0;32m   1523\u001b[0m     result \u001b[38;5;241m=\u001b[39m \u001b[38;5;28;01mNone\u001b[39;00m\n",
      "File \u001b[1;32mc:\\Users\\sunrui\\Desktop\\pretrain_project\\notebook\\model.py:111\u001b[0m, in \u001b[0;36mmask_gp.forward\u001b[1;34m(self, x, pred_positions)\u001b[0m\n\u001b[0;32m    108\u001b[0m batch_idx \u001b[38;5;241m=\u001b[39m torch\u001b[38;5;241m.\u001b[39marange(\u001b[38;5;241m0\u001b[39m, batch_size) \n\u001b[0;32m    110\u001b[0m batch_idx \u001b[38;5;241m=\u001b[39m torch\u001b[38;5;241m.\u001b[39mrepeat_interleave(batch_idx, num_pred_positions)\n\u001b[1;32m--> 111\u001b[0m masked_x \u001b[38;5;241m=\u001b[39m \u001b[43mx\u001b[49m\u001b[43m[\u001b[49m\u001b[43mbatch_idx\u001b[49m\u001b[43m,\u001b[49m\u001b[43m \u001b[49m\u001b[43mpred_positions\u001b[49m\u001b[43m]\u001b[49m\n\u001b[0;32m    112\u001b[0m masked_x \u001b[38;5;241m=\u001b[39m masked_x\u001b[38;5;241m.\u001b[39mreshape([batch_size, num_pred_positions, \u001b[38;5;241m-\u001b[39m\u001b[38;5;241m1\u001b[39m])\n\u001b[0;32m    113\u001b[0m mgp \u001b[38;5;241m=\u001b[39m \u001b[38;5;28mself\u001b[39m\u001b[38;5;241m.\u001b[39mmlp(masked_x)\n",
      "\u001b[1;31mIndexError\u001b[0m: The shape of the mask [64] at index 0 does not match the shape of the indexed tensor [4, 16, 128] at index 1"
     ]
    }
   ],
   "source": [
    "gene_pred = model.mask_gp(embed,pred_positions)"
   ]
  },
  {
   "cell_type": "code",
   "execution_count": 11,
   "metadata": {},
   "outputs": [
    {
     "name": "stdout",
     "output_type": "stream",
     "text": [
      "16\n",
      "tensor([0, 1, 2, 3])\n"
     ]
    }
   ],
   "source": [
    "num_pred_positions = pred_positions.shape[1]\n",
    "pred_positions = pred_positions.reshape(-1)\n",
    "\n",
    "print(num_pred_positions)\n",
    "batch_size = embed.shape[0]\n",
    "batch_idx = torch.arange(0, batch_size) \n",
    "print(batch_idx)"
   ]
  },
  {
   "cell_type": "code",
   "execution_count": 12,
   "metadata": {},
   "outputs": [
    {
     "data": {
      "text/plain": [
       "tensor([0, 0, 0, 0, 0, 0, 0, 0, 0, 0, 0, 0, 0, 0, 0, 0, 1, 1, 1, 1, 1, 1, 1, 1,\n",
       "        1, 1, 1, 1, 1, 1, 1, 1, 2, 2, 2, 2, 2, 2, 2, 2, 2, 2, 2, 2, 2, 2, 2, 2,\n",
       "        3, 3, 3, 3, 3, 3, 3, 3, 3, 3, 3, 3, 3, 3, 3, 3])"
      ]
     },
     "execution_count": 12,
     "metadata": {},
     "output_type": "execute_result"
    }
   ],
   "source": [
    "batch_idx = torch.repeat_interleave(batch_idx, num_pred_positions)\n",
    "batch_idx"
   ]
  },
  {
   "cell_type": "code",
   "execution_count": 16,
   "metadata": {},
   "outputs": [
    {
     "data": {
      "text/plain": [
       "torch.Size([4, 16, 128])"
      ]
     },
     "execution_count": 16,
     "metadata": {},
     "output_type": "execute_result"
    }
   ],
   "source": [
    "embed.shape"
   ]
  },
  {
   "cell_type": "code",
   "execution_count": 20,
   "metadata": {},
   "outputs": [
    {
     "data": {
      "text/plain": [
       "torch.Size([64])"
      ]
     },
     "execution_count": 20,
     "metadata": {},
     "output_type": "execute_result"
    }
   ],
   "source": [
    "batch_idx"
   ]
  },
  {
   "cell_type": "code",
   "execution_count": 22,
   "metadata": {},
   "outputs": [
    {
     "data": {
      "text/plain": [
       "torch.Size([64])"
      ]
     },
     "execution_count": 22,
     "metadata": {},
     "output_type": "execute_result"
    }
   ],
   "source": [
    "pred_positions.shape"
   ]
  },
  {
   "cell_type": "code",
   "execution_count": 23,
   "metadata": {},
   "outputs": [
    {
     "data": {
      "text/plain": [
       "torch.Size([8192])"
      ]
     },
     "execution_count": 23,
     "metadata": {},
     "output_type": "execute_result"
    }
   ],
   "source": [
    "embed.reshape(64,).shape"
   ]
  },
  {
   "cell_type": "code",
   "execution_count": 18,
   "metadata": {},
   "outputs": [
    {
     "ename": "IndexError",
     "evalue": "The shape of the mask [64] at index 0 does not match the shape of the indexed tensor [4, 16, 128] at index 1",
     "output_type": "error",
     "traceback": [
      "\u001b[1;31m---------------------------------------------------------------------------\u001b[0m",
      "\u001b[1;31mIndexError\u001b[0m                                Traceback (most recent call last)",
      "Cell \u001b[1;32mIn[18], line 1\u001b[0m\n\u001b[1;32m----> 1\u001b[0m masked_x \u001b[38;5;241m=\u001b[39m \u001b[43membed\u001b[49m\u001b[43m[\u001b[49m\u001b[43mbatch_idx\u001b[49m\u001b[43m,\u001b[49m\u001b[43m \u001b[49m\u001b[43mpred_positions\u001b[49m\u001b[43m,\u001b[49m\u001b[43m:\u001b[49m\u001b[43m]\u001b[49m\n",
      "\u001b[1;31mIndexError\u001b[0m: The shape of the mask [64] at index 0 does not match the shape of the indexed tensor [4, 16, 128] at index 1"
     ]
    }
   ],
   "source": [
    "masked_x = embed[batch_idx, pred_positions]"
   ]
  },
  {
   "cell_type": "code",
   "execution_count": null,
   "metadata": {},
   "outputs": [],
   "source": [
    "num_pred_positions = pred_positions.shape[1]\n",
    "pred_positions = pred_positions.reshape(-1)\n",
    "\n",
    "batch_size = embed.shape[0]\n",
    "batch_idx = torch.arange(0, batch_size) \n",
    "\n",
    "batch_idx = torch.repeat_interleave(batch_idx, num_pred_positions)\n",
    "masked_x = embed[batch_idx, pred_positions]\n",
    "masked_x = masked_x.reshape([batch_size, num_pred_positions, -1])\n",
    "mgp = self.mlp(masked_x)"
   ]
  },
  {
   "cell_type": "markdown",
   "metadata": {},
   "source": [
    "## 基本框架\n",
    "\n",
    "1. input embedding:\n",
    "   - gene embedding + count value embedding  \n",
    "   - cls + gene embedding + pad\n",
    "\n",
    "2. model structure:\n",
    "   - embedding layer\n",
    "   - transformer layer * N\n",
    "   - output layer: value classification + cell constrastive learning \n",
    "\n",
    "3. dataloader: \n",
    "   - input: a batch of gene expression, gene symbol \n",
    "   - output: (sampled gene count id vec, sampled gene id) + constrastive batch"
   ]
  },
  {
   "cell_type": "code",
   "execution_count": 12,
   "metadata": {},
   "outputs": [
    {
     "name": "stderr",
     "output_type": "stream",
     "text": [
      "d:\\Anaconda\\envs\\scvi\\lib\\site-packages\\anndata\\__init__.py:51: FutureWarning: `anndata.read` is deprecated, use `anndata.read_h5ad` instead. `ad.read` will be removed in mid 2024.\n",
      "  warnings.warn(\n"
     ]
    },
    {
     "name": "stdout",
     "output_type": "stream",
     "text": [
      "CPU times: total: 1.23 s\n",
      "Wall time: 1.27 s\n"
     ]
    },
    {
     "data": {
      "text/plain": [
       "AnnData object with n_obs × n_vars = 8572 × 32285\n",
       "    var: 'gene_ids', 'feature_types'"
      ]
     },
     "execution_count": 12,
     "metadata": {},
     "output_type": "execute_result"
    }
   ],
   "source": [
    "%%time\n",
    "\n",
    "scdata = sc.read_10x_mtx(r\"D:\\sly_data\\notebook\\data\\MHM\", cache=True)\n",
    "scdata\n",
    "#gene_name = [f'gene_{i}' for i in range(1000)]\n",
    "#cell_id = [f'cell_{i}' for i in range(200)]\n",
    "#gene_exp = np.random.randint(0,10,size = (200,1000))"
   ]
  },
  {
   "cell_type": "code",
   "execution_count": 13,
   "metadata": {},
   "outputs": [
    {
     "name": "stdout",
     "output_type": "stream",
     "text": [
      "(8455, 19104)\n"
     ]
    },
    {
     "data": {
      "text/html": [
       "<div>\n",
       "<style scoped>\n",
       "    .dataframe tbody tr th:only-of-type {\n",
       "        vertical-align: middle;\n",
       "    }\n",
       "\n",
       "    .dataframe tbody tr th {\n",
       "        vertical-align: top;\n",
       "    }\n",
       "\n",
       "    .dataframe thead th {\n",
       "        text-align: right;\n",
       "    }\n",
       "</style>\n",
       "<table border=\"1\" class=\"dataframe\">\n",
       "  <thead>\n",
       "    <tr style=\"text-align: right;\">\n",
       "      <th></th>\n",
       "      <th>n_genes</th>\n",
       "      <th>n_genes_by_counts</th>\n",
       "      <th>log1p_n_genes_by_counts</th>\n",
       "      <th>total_counts</th>\n",
       "      <th>log1p_total_counts</th>\n",
       "      <th>pct_counts_in_top_50_genes</th>\n",
       "      <th>pct_counts_in_top_100_genes</th>\n",
       "      <th>pct_counts_in_top_200_genes</th>\n",
       "      <th>pct_counts_in_top_500_genes</th>\n",
       "    </tr>\n",
       "  </thead>\n",
       "  <tbody>\n",
       "    <tr>\n",
       "      <th>AAACAGCCAAGTCGCT-1</th>\n",
       "      <td>4289</td>\n",
       "      <td>4283</td>\n",
       "      <td>8.362642</td>\n",
       "      <td>15397.0</td>\n",
       "      <td>9.641993</td>\n",
       "      <td>24.556732</td>\n",
       "      <td>32.980451</td>\n",
       "      <td>42.326427</td>\n",
       "      <td>56.679873</td>\n",
       "    </tr>\n",
       "    <tr>\n",
       "      <th>AAACAGCCAATAACGA-1</th>\n",
       "      <td>436</td>\n",
       "      <td>436</td>\n",
       "      <td>6.079933</td>\n",
       "      <td>584.0</td>\n",
       "      <td>6.371612</td>\n",
       "      <td>30.650685</td>\n",
       "      <td>42.465753</td>\n",
       "      <td>59.589041</td>\n",
       "      <td>100.000000</td>\n",
       "    </tr>\n",
       "    <tr>\n",
       "      <th>AAACAGCCACTAAATC-1</th>\n",
       "      <td>3065</td>\n",
       "      <td>3063</td>\n",
       "      <td>8.027477</td>\n",
       "      <td>8180.0</td>\n",
       "      <td>9.009570</td>\n",
       "      <td>23.924205</td>\n",
       "      <td>32.469438</td>\n",
       "      <td>42.078240</td>\n",
       "      <td>57.347188</td>\n",
       "    </tr>\n",
       "    <tr>\n",
       "      <th>AAACAGCCATCAGCAC-1</th>\n",
       "      <td>2000</td>\n",
       "      <td>1999</td>\n",
       "      <td>7.600902</td>\n",
       "      <td>4241.0</td>\n",
       "      <td>8.352790</td>\n",
       "      <td>25.795803</td>\n",
       "      <td>33.506249</td>\n",
       "      <td>43.739684</td>\n",
       "      <td>60.811129</td>\n",
       "    </tr>\n",
       "    <tr>\n",
       "      <th>AAACAGCCATGAAATG-1</th>\n",
       "      <td>389</td>\n",
       "      <td>389</td>\n",
       "      <td>5.966147</td>\n",
       "      <td>564.0</td>\n",
       "      <td>6.336826</td>\n",
       "      <td>36.170213</td>\n",
       "      <td>48.758865</td>\n",
       "      <td>66.489362</td>\n",
       "      <td>100.000000</td>\n",
       "    </tr>\n",
       "  </tbody>\n",
       "</table>\n",
       "</div>"
      ],
      "text/plain": [
       "                    n_genes  n_genes_by_counts  log1p_n_genes_by_counts  \\\n",
       "AAACAGCCAAGTCGCT-1     4289               4283                 8.362642   \n",
       "AAACAGCCAATAACGA-1      436                436                 6.079933   \n",
       "AAACAGCCACTAAATC-1     3065               3063                 8.027477   \n",
       "AAACAGCCATCAGCAC-1     2000               1999                 7.600902   \n",
       "AAACAGCCATGAAATG-1      389                389                 5.966147   \n",
       "\n",
       "                    total_counts  log1p_total_counts  \\\n",
       "AAACAGCCAAGTCGCT-1       15397.0            9.641993   \n",
       "AAACAGCCAATAACGA-1         584.0            6.371612   \n",
       "AAACAGCCACTAAATC-1        8180.0            9.009570   \n",
       "AAACAGCCATCAGCAC-1        4241.0            8.352790   \n",
       "AAACAGCCATGAAATG-1         564.0            6.336826   \n",
       "\n",
       "                    pct_counts_in_top_50_genes  pct_counts_in_top_100_genes  \\\n",
       "AAACAGCCAAGTCGCT-1                   24.556732                    32.980451   \n",
       "AAACAGCCAATAACGA-1                   30.650685                    42.465753   \n",
       "AAACAGCCACTAAATC-1                   23.924205                    32.469438   \n",
       "AAACAGCCATCAGCAC-1                   25.795803                    33.506249   \n",
       "AAACAGCCATGAAATG-1                   36.170213                    48.758865   \n",
       "\n",
       "                    pct_counts_in_top_200_genes  pct_counts_in_top_500_genes  \n",
       "AAACAGCCAAGTCGCT-1                    42.326427                    56.679873  \n",
       "AAACAGCCAATAACGA-1                    59.589041                   100.000000  \n",
       "AAACAGCCACTAAATC-1                    42.078240                    57.347188  \n",
       "AAACAGCCATCAGCAC-1                    43.739684                    60.811129  \n",
       "AAACAGCCATGAAATG-1                    66.489362                   100.000000  "
      ]
     },
     "execution_count": 13,
     "metadata": {},
     "output_type": "execute_result"
    }
   ],
   "source": [
    "sc.pp.filter_cells(scdata, min_genes = 200)\n",
    "sc.pp.filter_genes(scdata, min_cells = 10)\n",
    "sc.pp.calculate_qc_metrics(scdata, inplace=True )\n",
    "print(scdata.shape)\n",
    "scdata.obs.head()"
   ]
  },
  {
   "cell_type": "code",
   "execution_count": 24,
   "metadata": {},
   "outputs": [],
   "source": [
    "def cell_process(gene_exp, gene_ids, cell_id, meta_info):\n",
    "    # process cell info into a cell_dic\n",
    "    # gene_exp: np.array, dtype = int, gene_counts\n",
    "    # gene_ids: np.array, dtype = object,  gene_id 'ENSMUSG00000051951'\n",
    "    # cell_id: int, the id of this cell_dic\n",
    "    # meta_info: a dic, must record the ori dataset and ori cell idx\n",
    "\n",
    "    cell_dic = {}\n",
    "    \n",
    "    cell_dic['cell_id'] = cell_id\n",
    "    pos_id = (gene_exp > 0)\n",
    "    cell_dic['pos_gene_ids'] = gene_ids[pos_id]\n",
    "    cell_dic['pos_gene_exp'] = gene_exp[pos_id] \n",
    "\n",
    "    cell_dic['neg_gene_ids'] = gene_ids[~pos_id]\n",
    "\n",
    "    cell_dic['pos_gene_num'] = cell_dic['pos_gene_ids'].shape[0]\n",
    "    cell_dic['umi_counts'] = gene_exp.sum()\n",
    "    cell_dic['meta_info'] = meta_info \n",
    "    return cell_dic"
   ]
  },
  {
   "cell_type": "code",
   "execution_count": 28,
   "metadata": {},
   "outputs": [
    {
     "data": {
      "text/plain": [
       "array([[21.,  0.,  0., ...,  0.,  0.,  0.]], dtype=float32)"
      ]
     },
     "execution_count": 28,
     "metadata": {},
     "output_type": "execute_result"
    }
   ],
   "source": [
    "np.array(scdata[i,:].X.todense())"
   ]
  },
  {
   "cell_type": "code",
   "execution_count": 31,
   "metadata": {},
   "outputs": [
    {
     "name": "stderr",
     "output_type": "stream",
     "text": [
      "100%|██████████| 8455/8455 [01:54<00:00, 74.01it/s]\n"
     ]
    }
   ],
   "source": [
    "from tqdm import tqdm \n",
    "import pyarrow.parquet as pq\n",
    "import pyarrow as pa\n",
    "\n",
    "gene_ids = scdata.var.index.values \n",
    "samples = []\n",
    "\n",
    "for i in tqdm(range(scdata.shape[0])):\n",
    "    res = cell_process(gene_exp= np.array(scdata[i,:].X.todense()).reshape(-1), \n",
    "                            gene_ids = gene_ids,\n",
    "                            cell_id = i,\n",
    "                            meta_info = {'cell_barcode': scdata.obs.index.values[i],\n",
    "                                            'dataset': 'mhm'})\n",
    "\n",
    "    samples.append(res)\n",
    "\n",
    "df = pd.DataFrame(samples)\n",
    "\n",
    "output_file = 'hm_data.parquet'\n",
    "\n",
    "# 将DataFrame转换为Table并写入Parquet文件\n",
    "table = pa.Table.from_pandas(df)\n",
    "pq.write_table(table, output_file)"
   ]
  },
  {
   "cell_type": "code",
   "execution_count": null,
   "metadata": {},
   "outputs": [],
   "source": [
    "class tokenizer():\n",
    "    def __init__(self, gene2id_dic):\n",
    "        self.gene2id_dic = gene2id_dic \n",
    "\n",
    "    def encode(gene_ids):\n",
    "        # transform gene to int id \n",
    "        res = []\n",
    "        for gene in gene_ids:\n",
    "            if gene in gene2id_dic:\n",
    "                res.append(gene2id_dic[gene])\n",
    "            else:\n",
    "                res.append(gene2id_dic['<unk>'])\n",
    "        return res "
   ]
  },
  {
   "cell_type": "code",
   "execution_count": 178,
   "metadata": {},
   "outputs": [],
   "source": [
    "model = nn.MultiheadAttention(embed_dim = 16, num_heads = 4, batch_first = True)\n",
    "query = torch.randn(size = (2,10,16))\n",
    "key  = torch.randn(size = (2,10,16))\n",
    "value  = torch.randn(size = (2,10,16))\n",
    "key_padding_mask = torch.tensor([[True, False, False, False, True, False, False, False, False, False],\n",
    "                                 [False, False, False, False, True, True, False, False, False, False]])\n",
    "\n",
    "attn_output, attn_output_weights = model(query, key, value, key_padding_mask)"
   ]
  },
  {
   "cell_type": "code",
   "execution_count": 182,
   "metadata": {},
   "outputs": [
    {
     "name": "stdout",
     "output_type": "stream",
     "text": [
      "torch.Size([100])\n"
     ]
    }
   ],
   "source": [
    "import torch.nn.functional as F\n",
    "input1 = torch.randn(100, 128)\n",
    "input2 = torch.randn(100, 128)\n",
    "output = F.cosine_similarity(input1, input2)\n",
    "print(output.shape)"
   ]
  },
  {
   "cell_type": "code",
   "execution_count": 185,
   "metadata": {},
   "outputs": [
    {
     "data": {
      "text/plain": [
       "torch.Size([2, 16])"
      ]
     },
     "execution_count": 185,
     "metadata": {},
     "output_type": "execute_result"
    }
   ],
   "source": [
    "query[:,0,:].shape"
   ]
  },
  {
   "cell_type": "code",
   "execution_count": 179,
   "metadata": {},
   "outputs": [
    {
     "name": "stdout",
     "output_type": "stream",
     "text": [
      "torch.Size([2, 10, 16])\n"
     ]
    }
   ],
   "source": [
    "print(attn_output.shape)"
   ]
  },
  {
   "cell_type": "code",
   "execution_count": 181,
   "metadata": {},
   "outputs": [
    {
     "data": {
      "text/plain": [
       "torch.Size([4, 16])"
      ]
     },
     "execution_count": 181,
     "metadata": {},
     "output_type": "execute_result"
    }
   ],
   "source": [
    "attn_output[key_padding_mask].shape"
   ]
  },
  {
   "cell_type": "code",
   "execution_count": 177,
   "metadata": {},
   "outputs": [
    {
     "data": {
      "text/plain": [
       "torch.Size([10, 16])"
      ]
     },
     "execution_count": 177,
     "metadata": {},
     "output_type": "execute_result"
    }
   ],
   "source": [
    "(value[0][:,:4] @ model.in_proj_weight[32:,:4].T).shape"
   ]
  },
  {
   "cell_type": "code",
   "execution_count": 176,
   "metadata": {},
   "outputs": [
    {
     "name": "stdout",
     "output_type": "stream",
     "text": [
      "torch.Size([10, 16])\n"
     ]
    },
    {
     "data": {
      "text/plain": [
       "tensor([[-0.0063, -0.0389,  0.0047, -0.0165, -0.0058,  0.0184,  0.0333,  0.0343,\n",
       "          0.0181,  0.0016, -0.0479,  0.0440, -0.0387, -0.0085,  0.0437,  0.0245],\n",
       "        [-0.0030, -0.0059,  0.0632,  0.0081, -0.0323,  0.0139, -0.0011,  0.0271,\n",
       "          0.0061,  0.0051, -0.0858,  0.0239, -0.0082,  0.0179,  0.0362,  0.0557],\n",
       "        [ 0.0112, -0.0176,  0.0719, -0.0235, -0.0358,  0.0141,  0.0081,  0.0372,\n",
       "         -0.0299,  0.0463, -0.0646,  0.0749, -0.0132, -0.0115,  0.0674,  0.0733],\n",
       "        [-0.0135, -0.0352,  0.0190, -0.0022, -0.0147,  0.0243,  0.0295,  0.0373,\n",
       "          0.0335, -0.0122, -0.0814,  0.0320, -0.0414,  0.0065,  0.0412,  0.0327],\n",
       "        [ 0.0082, -0.0351,  0.0130, -0.0173,  0.0016, -0.0053,  0.0219,  0.0321,\n",
       "          0.0016,  0.0090, -0.0190,  0.0362, -0.0052, -0.0004,  0.0444,  0.0308],\n",
       "        [ 0.0078, -0.0226,  0.0610, -0.0193, -0.0296,  0.0129,  0.0124,  0.0381,\n",
       "         -0.0172,  0.0338, -0.0651,  0.0650, -0.0153, -0.0061,  0.0630,  0.0657],\n",
       "        [ 0.0083, -0.0155,  0.0531, -0.0065, -0.0206,  0.0003,  0.0036,  0.0298,\n",
       "         -0.0089,  0.0178, -0.0514,  0.0358,  0.0030,  0.0087,  0.0454,  0.0542],\n",
       "        [-0.0034, -0.0514, -0.0121, -0.0057,  0.0145, -0.0038,  0.0363,  0.0387,\n",
       "          0.0395, -0.0253, -0.0331,  0.0142, -0.0172,  0.0144,  0.0373,  0.0152],\n",
       "        [ 0.0110, -0.0178,  0.0589, -0.0126, -0.0236,  0.0015,  0.0053,  0.0333,\n",
       "         -0.0162,  0.0269, -0.0524,  0.0480,  0.0012,  0.0034,  0.0538,  0.0611],\n",
       "        [ 0.0113, -0.0266,  0.0392, -0.0226, -0.0147,  0.0023,  0.0151,  0.0335,\n",
       "         -0.0170,  0.0296, -0.0339,  0.0562, -0.0073, -0.0081,  0.0554,  0.0497]],\n",
       "       grad_fn=<AddmmBackward0>)"
      ]
     },
     "execution_count": 176,
     "metadata": {},
     "output_type": "execute_result"
    }
   ],
   "source": [
    "tmp = value[0][:,:4] @ model.in_proj_weight[32:,:4].T + model.in_proj_bias[32:]\n",
    "print(tmp.shape)\n",
    "tmp = attn_output_weights[0] @ tmp\n",
    "res = model.out_proj(tmp)\n",
    "res"
   ]
  },
  {
   "cell_type": "code",
   "execution_count": 156,
   "metadata": {},
   "outputs": [
    {
     "name": "stdout",
     "output_type": "stream",
     "text": [
      "Name: in_proj_weight, Shape: torch.Size([48, 16])\n",
      "Name: in_proj_bias, Shape: torch.Size([48])\n",
      "Name: out_proj.weight, Shape: torch.Size([16, 16])\n",
      "Name: out_proj.bias, Shape: torch.Size([16])\n"
     ]
    }
   ],
   "source": [
    "# 查看模型的所有参数及其名称\n",
    "for name, param in model.named_parameters():\n",
    "    print(f\"Name: {name}, Shape: {param.shape}\")"
   ]
  },
  {
   "cell_type": "code",
   "execution_count": 152,
   "metadata": {},
   "outputs": [],
   "source": [
    "## model.out_proj(x) = x @ model.out_proj.weight.T + model.out_proj.bias\n",
    "## multihead_attention(single head): attn_output = tmp = value[0] @ model.in_proj_weight[32:].T + model.in_proj_bias[32:]\n",
    "# tmp = attn_output_weights[0] @ tmp \n",
    "# model.out_proj(tmp) "
   ]
  },
  {
   "cell_type": "code",
   "execution_count": 153,
   "metadata": {},
   "outputs": [
    {
     "data": {
      "text/plain": [
       "tensor([[True, True, True, True, True, True, True, True, True, True, True, True,\n",
       "         True, True, True, True],\n",
       "        [True, True, True, True, True, True, True, True, True, True, True, True,\n",
       "         True, True, True, True],\n",
       "        [True, True, True, True, True, True, True, True, True, True, True, True,\n",
       "         True, True, True, True],\n",
       "        [True, True, True, True, True, True, True, True, True, True, True, True,\n",
       "         True, True, True, True],\n",
       "        [True, True, True, True, True, True, True, True, True, True, True, True,\n",
       "         True, True, True, True],\n",
       "        [True, True, True, True, True, True, True, True, True, True, True, True,\n",
       "         True, True, True, True],\n",
       "        [True, True, True, True, True, True, True, True, True, True, True, True,\n",
       "         True, True, True, True],\n",
       "        [True, True, True, True, True, True, True, True, True, True, True, True,\n",
       "         True, True, True, True],\n",
       "        [True, True, True, True, True, True, True, True, True, True, True, True,\n",
       "         True, True, True, True],\n",
       "        [True, True, True, True, True, True, True, True, True, True, True, True,\n",
       "         True, True, True, True]])"
      ]
     },
     "execution_count": 153,
     "metadata": {},
     "output_type": "execute_result"
    }
   ],
   "source": [
    "tmp @ model.out_proj.weight.T + model.out_proj.bias  == model.out_proj(tmp)"
   ]
  },
  {
   "cell_type": "code",
   "execution_count": 160,
   "metadata": {},
   "outputs": [
    {
     "data": {
      "text/plain": [
       "tensor([[False, False, False, False, False, False, False, False, False, False,\n",
       "         False, False, False, False, False, False],\n",
       "        [False, False, False, False, False, False, False, False, False, False,\n",
       "         False, False, False, False, False, False],\n",
       "        [False, False, False, False, False, False, False, False, False, False,\n",
       "         False, False, False, False, False, False],\n",
       "        [False, False, False, False, False, False, False, False, False, False,\n",
       "         False, False, False, False, False, False],\n",
       "        [False, False, False, False, False, False, False, False, False, False,\n",
       "         False, False, False, False, False, False],\n",
       "        [False, False, False, False, False, False, False, False, False, False,\n",
       "         False, False, False, False, False, False],\n",
       "        [False, False, False, False, False, False, False, False, False, False,\n",
       "         False, False, False, False, False, False],\n",
       "        [False, False, False, False, False, False, False, False, False, False,\n",
       "         False, False, False, False, False, False],\n",
       "        [False, False, False, False, False, False, False, False, False, False,\n",
       "         False, False, False, False, False, False],\n",
       "        [False, False, False, False, False, False, False, False, False, False,\n",
       "         False, False, False, False, False, False]])"
      ]
     },
     "execution_count": 160,
     "metadata": {},
     "output_type": "execute_result"
    }
   ],
   "source": [
    "tmp = value[0] @ model.in_proj_weight[32:].T + model.in_proj_bias[32:]\n",
    "tmp = attn_output_weights[0] @ tmp\n",
    "res = model.out_proj(tmp)\n",
    "\n",
    "attn_output[0] == res"
   ]
  },
  {
   "cell_type": "code",
   "execution_count": 105,
   "metadata": {},
   "outputs": [
    {
     "data": {
      "text/plain": [
       "tensor([[-0.1264,  0.1540,  0.0752,  0.0133, -0.1145,  0.0009,  0.0770, -0.2103,\n",
       "          0.0338,  0.0232,  0.2429,  0.0411, -0.0689,  0.1302, -0.0743, -0.1119],\n",
       "        [-0.0771,  0.2807,  0.1136, -0.0320, -0.1886,  0.0505,  0.0859, -0.3231,\n",
       "          0.1078,  0.1941,  0.3086,  0.0491, -0.1624,  0.2082, -0.0921, -0.0742],\n",
       "        [-0.2141,  0.0450,  0.0574,  0.1150, -0.0922, -0.0728, -0.0094, -0.0021,\n",
       "         -0.0428, -0.1372,  0.2298,  0.0083, -0.0843, -0.0446,  0.0044, -0.2458],\n",
       "        [-0.2566,  0.2175,  0.0122,  0.0584, -0.2062,  0.0403, -0.0108, -0.1681,\n",
       "         -0.1137, -0.0635,  0.2441,  0.0200, -0.1044,  0.1229, -0.1079, -0.3916],\n",
       "        [-0.1905,  0.1851,  0.0504,  0.0442, -0.1620,  0.0132,  0.0010, -0.1454,\n",
       "         -0.0389, -0.0038,  0.2476,  0.0259, -0.1254,  0.0972, -0.0704, -0.2629],\n",
       "        [-0.1851,  0.2030,  0.0811,  0.0425, -0.1680,  0.0440,  0.0056, -0.2406,\n",
       "          0.0075,  0.0228,  0.3357,  0.0552, -0.1869,  0.1208, -0.0845, -0.2337],\n",
       "        [-0.1844,  0.0843,  0.0571,  0.1492, -0.1130, -0.0686,  0.0395, -0.0101,\n",
       "         -0.0187, -0.1187,  0.2366,  0.0012, -0.0407, -0.0173, -0.0182, -0.2438],\n",
       "        [-0.2207,  0.0389,  0.0375,  0.1342, -0.0873, -0.0745,  0.0209, -0.0011,\n",
       "         -0.0653, -0.1833,  0.2053,  0.0074, -0.0201, -0.0273, -0.0219, -0.2657],\n",
       "        [-0.1421,  0.0771,  0.0786,  0.0723, -0.0822, -0.0496,  0.0415, -0.0739,\n",
       "          0.0286, -0.0386,  0.2460,  0.0128, -0.0784,  0.0112, -0.0015, -0.1327],\n",
       "        [-0.1497,  0.1592,  0.0715,  0.0058, -0.1248,  0.0086,  0.0458, -0.2088,\n",
       "          0.0124,  0.0196,  0.2478,  0.0435, -0.1012,  0.1249, -0.0732, -0.1473]],\n",
       "       grad_fn=<SelectBackward0>)"
      ]
     },
     "execution_count": 105,
     "metadata": {},
     "output_type": "execute_result"
    }
   ],
   "source": [
    "attn_output[0]"
   ]
  },
  {
   "cell_type": "code",
   "execution_count": 87,
   "metadata": {},
   "outputs": [
    {
     "data": {
      "text/plain": [
       "tensor([[-0.6152,  0.5296,  0.5794, -0.2073, -0.1746,  0.0762,  0.0607, -0.2378,\n",
       "          0.0372,  0.0304,  0.1250, -0.3856, -1.0762, -0.4057, -0.0326,  1.1652],\n",
       "        [-0.2357,  0.1701,  0.5856, -0.3487, -0.2280,  0.2612,  0.2355, -0.3257,\n",
       "         -0.0621,  0.3006,  0.0531, -0.0953, -0.8221, -0.4019,  0.1040,  1.1983],\n",
       "        [-0.1173,  0.4102,  0.6795, -0.3494, -0.4370,  0.0664,  0.0577, -0.7595,\n",
       "         -0.2141,  0.0751,  0.1539,  0.0344, -0.2803, -0.4642,  0.5667,  1.2202],\n",
       "        [-0.3127,  0.2461,  0.6038, -0.2982, -0.1593,  0.0750,  0.2022, -0.2687,\n",
       "         -0.0446,  0.2117,  0.0863, -0.0602, -0.8036, -0.3319,  0.0883,  1.1219],\n",
       "        [-0.6706,  0.3565,  0.5449, -0.3397, -0.0542,  0.1654,  0.0988, -0.0202,\n",
       "         -0.0975,  0.0546,  0.0682, -0.4595, -1.4845, -0.3918, -0.0900,  1.2696],\n",
       "        [-0.2410,  0.3667,  0.7105, -0.2355, -0.1535, -0.0221,  0.1234, -0.3839,\n",
       "          0.0016,  0.2261,  0.0247,  0.0423, -0.5179, -0.2635,  0.1390,  1.1171],\n",
       "        [-0.3962,  0.3397,  0.6329, -0.3372, -0.1942,  0.2073,  0.0628, -0.3389,\n",
       "         -0.1848,  0.2036,  0.0424, -0.2938, -0.9453, -0.4383,  0.2694,  1.3073],\n",
       "        [ 0.0836,  0.1844,  0.3689, -0.0551, -0.2667,  0.0018,  0.2220, -0.2941,\n",
       "          0.2413,  0.2480,  0.2035,  0.2303, -0.3614, -0.3164, -0.1746,  0.7574],\n",
       "        [-0.0789,  0.4685,  0.4391, -0.0233, -0.3301,  0.0212, -0.0875, -0.4848,\n",
       "          0.0051,  0.1617,  0.2014, -0.1205, -0.3756, -0.4715,  0.2681,  0.9716],\n",
       "        [ 0.2086,  0.0391,  0.3960, -0.1433, -0.2104,  0.0995,  0.1730, -0.2720,\n",
       "          0.0395,  0.3893,  0.1113,  0.2276, -0.4022, -0.3297,  0.0326,  0.8907]],\n",
       "       grad_fn=<MmBackward0>)"
      ]
     },
     "execution_count": 87,
     "metadata": {},
     "output_type": "execute_result"
    }
   ],
   "source": [
    "(attn_output_weights[0] @  value[0] )"
   ]
  },
  {
   "cell_type": "code",
   "execution_count": 47,
   "metadata": {},
   "outputs": [
    {
     "data": {
      "text/plain": [
       "tensor([[0.0000, 0.1245, 0.1893, 0.1339, 0.0000, 0.1311, 0.1024, 0.1126, 0.0800,\n",
       "         0.1262],\n",
       "        [0.0000, 0.1294, 0.1626, 0.1115, 0.0000, 0.1438, 0.1156, 0.1188, 0.1004,\n",
       "         0.1178],\n",
       "        [0.0000, 0.1020, 0.0836, 0.1008, 0.0000, 0.1666, 0.1823, 0.0930, 0.1546,\n",
       "         0.1171],\n",
       "        [0.0000, 0.1554, 0.1740, 0.1611, 0.0000, 0.1153, 0.1005, 0.0996, 0.0816,\n",
       "         0.1125],\n",
       "        [0.0000, 0.1494, 0.1753, 0.1857, 0.0000, 0.1272, 0.0806, 0.1164, 0.0642,\n",
       "         0.1013],\n",
       "        [0.0000, 0.0814, 0.0742, 0.0818, 0.0000, 0.1024, 0.1317, 0.0982, 0.3099,\n",
       "         0.1204],\n",
       "        [0.0000, 0.1060, 0.1540, 0.0752, 0.0000, 0.1462, 0.1164, 0.0926, 0.1876,\n",
       "         0.1219],\n",
       "        [0.0000, 0.1152, 0.1091, 0.1045, 0.0000, 0.1561, 0.1519, 0.1229, 0.1468,\n",
       "         0.0936],\n",
       "        [0.0000, 0.1301, 0.1687, 0.1461, 0.0000, 0.1594, 0.1088, 0.0871, 0.0858,\n",
       "         0.1140],\n",
       "        [0.0000, 0.1153, 0.1259, 0.1960, 0.0000, 0.0806, 0.1052, 0.1573, 0.0985,\n",
       "         0.1211]], grad_fn=<SelectBackward0>)"
      ]
     },
     "execution_count": 47,
     "metadata": {},
     "output_type": "execute_result"
    }
   ],
   "source": [
    "attn_output_weights[0]"
   ]
  },
  {
   "cell_type": "code",
   "execution_count": 78,
   "metadata": {},
   "outputs": [
    {
     "name": "stdout",
     "output_type": "stream",
     "text": [
      "Original attn_output: tensor([[[ 7.8775e-02, -1.4985e-01,  1.2982e-01, -1.1621e-01,  4.3176e-02,\n",
      "          -5.9832e-02, -1.1051e-02, -4.8251e-02,  3.6437e-02, -7.8387e-03,\n",
      "          -1.9143e-01, -4.4591e-02, -8.2111e-02,  3.2287e-02,  2.8178e-03,\n",
      "          -1.2040e-01],\n",
      "         [ 3.5377e-02, -1.2024e-01,  2.7264e-01, -1.7746e-01,  1.4927e-02,\n",
      "          -7.7830e-02, -1.5373e-01, -1.0556e-01,  8.2224e-02,  8.1203e-02,\n",
      "          -3.2284e-01, -4.7549e-02, -2.1195e-01,  9.8409e-02, -3.3826e-02,\n",
      "          -1.0516e-01],\n",
      "         [ 9.8109e-02, -1.5123e-01,  1.5880e-01, -1.6578e-01,  4.4249e-02,\n",
      "          -8.2077e-02, -7.3562e-02, -7.8680e-02,  1.3971e-01,  6.4754e-02,\n",
      "          -2.6878e-01, -1.0598e-02, -1.8274e-01,  3.8592e-02, -2.1477e-02,\n",
      "          -5.8919e-02],\n",
      "         [ 7.2085e-02, -1.5613e-01,  2.2915e-01, -1.4723e-01,  2.5716e-02,\n",
      "          -4.3876e-02, -7.7761e-02, -8.8087e-02,  6.8243e-02,  3.7503e-02,\n",
      "          -2.5303e-01, -3.4986e-02, -1.5304e-01,  7.7125e-02, -2.2803e-02,\n",
      "          -1.0863e-01],\n",
      "         [-1.5492e-02, -8.7605e-02,  1.2361e-01, -1.2040e-01,  1.0610e-01,\n",
      "          -9.3664e-02, -6.9037e-02, -1.1028e-02,  1.0961e-01,  5.8167e-03,\n",
      "          -2.4502e-01,  4.6482e-02, -2.0664e-01,  8.5822e-02, -1.3454e-02,\n",
      "          -3.8014e-02],\n",
      "         [ 3.6277e-02, -1.4950e-01,  1.8029e-01, -1.2353e-01,  5.6908e-02,\n",
      "          -6.0455e-02, -4.0673e-02, -4.4340e-02,  8.4736e-02, -9.0142e-03,\n",
      "          -2.0888e-01,  5.3083e-03, -1.6883e-01,  8.6142e-02, -2.7735e-02,\n",
      "          -7.8372e-02],\n",
      "         [ 7.9612e-03, -9.9692e-02,  1.5247e-01, -9.4058e-02,  3.8184e-02,\n",
      "          -5.2020e-02, -4.0821e-02, -5.0329e-02, -2.1542e-02, -3.6930e-02,\n",
      "          -1.8555e-01, -3.6025e-02, -7.2791e-02,  6.6239e-02,  1.1443e-02,\n",
      "          -1.4553e-01],\n",
      "         [-6.6307e-03, -9.0639e-02,  2.3127e-01, -1.6046e-01,  3.7706e-02,\n",
      "          -8.9512e-02, -1.4536e-01, -6.9645e-02,  5.8296e-02,  4.5478e-02,\n",
      "          -2.9843e-01, -2.7371e-02, -2.0078e-01,  8.3681e-02, -1.5789e-02,\n",
      "          -1.0824e-01],\n",
      "         [ 2.7846e-02, -1.2456e-01,  1.6775e-01, -1.4572e-01,  6.4767e-02,\n",
      "          -9.0133e-02, -7.9493e-02, -4.9445e-02,  1.2710e-01,  2.7338e-02,\n",
      "          -2.5378e-01,  1.9281e-02, -2.1376e-01,  8.0107e-02, -3.0169e-02,\n",
      "          -4.9088e-02],\n",
      "         [ 1.6197e-02, -1.1978e-01,  2.1933e-01, -1.6177e-01,  5.3992e-02,\n",
      "          -8.8817e-02, -1.1745e-01, -5.3092e-02,  9.0324e-02,  4.4331e-02,\n",
      "          -2.8835e-01, -1.6584e-02, -2.1415e-01,  8.0124e-02, -2.4660e-02,\n",
      "          -8.6487e-02]],\n",
      "\n",
      "        [[-9.3679e-02,  2.6967e-01, -3.1709e-01,  5.5274e-02, -9.1948e-03,\n",
      "          -8.3702e-02,  8.0047e-02,  5.5833e-02, -8.1100e-03,  7.6924e-02,\n",
      "           2.8646e-01, -9.5526e-02,  7.8490e-02, -5.4123e-02, -2.0553e-02,\n",
      "           2.3937e-01],\n",
      "         [-1.2290e-01,  2.4802e-01, -2.5311e-01,  3.6061e-02, -1.2279e-01,\n",
      "          -9.6866e-02,  3.8086e-02,  4.7928e-02, -4.5934e-02,  2.3555e-02,\n",
      "           2.9421e-01, -2.8418e-02,  5.3323e-02, -2.4250e-02, -9.2407e-02,\n",
      "           1.4530e-01],\n",
      "         [-1.0687e-01,  1.8881e-01, -2.0247e-01, -2.3425e-02, -1.8781e-01,\n",
      "          -1.2526e-01, -1.7597e-03,  4.2178e-02,  2.6060e-02,  4.0834e-02,\n",
      "           2.6764e-01,  1.9750e-04, -9.7246e-03, -4.9061e-02, -1.2373e-01,\n",
      "           1.2921e-01],\n",
      "         [-1.3056e-01,  2.7001e-01, -2.9032e-01,  5.2696e-02, -4.2205e-02,\n",
      "          -1.3248e-01,  8.9305e-02,  8.6115e-02, -2.6934e-02,  5.0018e-02,\n",
      "           2.6286e-01, -4.5520e-02,  6.6304e-02, -1.9554e-02, -7.2697e-02,\n",
      "           1.4380e-01],\n",
      "         [-1.0477e-01,  2.3717e-01, -2.6253e-01, -1.8950e-02, -7.8987e-02,\n",
      "          -1.2945e-01,  5.6364e-02,  6.3037e-02,  5.4123e-02,  8.5314e-02,\n",
      "           2.7211e-01, -3.4711e-02,  1.1981e-02, -6.2087e-02, -8.1540e-02,\n",
      "           1.8358e-01],\n",
      "         [-8.8002e-02,  2.2847e-01, -2.9150e-01,  4.5615e-02, -7.5979e-02,\n",
      "          -9.4476e-02,  9.3129e-02,  9.0156e-02,  2.8560e-05,  5.0542e-02,\n",
      "           3.0237e-01, -9.0220e-02,  9.7700e-02, -4.4206e-02, -1.1113e-01,\n",
      "           1.7700e-01],\n",
      "         [-1.5257e-01,  3.1929e-01, -4.1310e-01,  1.7376e-01, -1.2839e-01,\n",
      "          -1.6070e-01,  1.5725e-01,  1.8197e-01, -1.4962e-01, -5.7744e-02,\n",
      "           2.7233e-01, -2.6127e-02,  2.0722e-01,  5.1517e-02, -2.1149e-01,\n",
      "           1.7033e-02],\n",
      "         [-1.0448e-01,  2.3071e-01, -2.4500e-01,  7.5121e-03, -1.3113e-01,\n",
      "          -9.7695e-02, -1.1885e-03,  3.5028e-02,  1.0450e-03,  5.3767e-02,\n",
      "           2.6048e-01, -3.1194e-02,  2.0665e-02, -5.6720e-02, -7.5399e-02,\n",
      "           1.7778e-01],\n",
      "         [-8.8078e-02,  2.1339e-01, -2.5661e-01,  5.4064e-02, -2.2448e-01,\n",
      "          -4.9385e-02, -1.2660e-02,  4.4487e-02, -6.7271e-02, -1.0704e-02,\n",
      "           3.0453e-01, -5.0118e-02,  9.5766e-02, -4.0321e-02, -1.5210e-01,\n",
      "           1.4706e-01],\n",
      "         [-1.7024e-01,  3.4438e-01, -3.8174e-01,  1.4835e-01, -7.5200e-02,\n",
      "          -1.5210e-01,  1.1921e-01,  1.2652e-01, -1.4675e-01, -2.6374e-02,\n",
      "           2.5666e-01, -9.4840e-03,  1.4658e-01,  4.1176e-02, -1.1650e-01,\n",
      "           6.5085e-02]]], grad_fn=<TransposeBackward0>)\n",
      "Reconstructed attn_output: tensor([[[-2.7345e-01, -5.6467e-01,  1.7701e-01, -1.2655e-01,  4.0805e-01,\n",
      "           3.0712e-01,  3.3102e-02, -3.1400e-01,  1.5351e-01,  2.6264e-01,\n",
      "          -1.9413e-01, -4.3197e-01,  2.6215e-01, -3.6134e-01, -2.5895e-01,\n",
      "           7.1386e-01],\n",
      "         [-2.9223e-01, -5.9749e-01, -5.6116e-02,  9.1568e-03,  1.2121e-01,\n",
      "           5.9307e-01, -2.1226e-01, -4.1726e-01,  5.2986e-05,  2.3157e-01,\n",
      "          -4.4742e-01, -2.8546e-01,  4.3833e-01, -1.1242e-01, -2.7628e-01,\n",
      "           6.6741e-01],\n",
      "         [-4.0121e-01, -5.5229e-01,  4.6163e-02, -2.7765e-01,  3.2607e-01,\n",
      "           3.1651e-01, -4.0088e-02, -4.3772e-01,  6.6125e-02,  2.5863e-01,\n",
      "          -3.1236e-01, -5.2852e-01,  4.9488e-01, -1.7351e-01, -2.5737e-01,\n",
      "           7.9357e-01],\n",
      "         [-3.8705e-01, -4.9963e-01, -1.1053e-02, -1.3487e-01,  2.0509e-01,\n",
      "           4.8228e-01, -8.1850e-02, -2.8521e-01, -1.5025e-02,  2.2608e-01,\n",
      "          -3.8205e-01, -4.0386e-01,  2.8316e-01, -1.6385e-01, -2.2042e-01,\n",
      "           6.4487e-01],\n",
      "         [-4.5943e-01,  9.3651e-02, -3.7800e-01, -3.8756e-02,  1.2647e-01,\n",
      "           1.4567e-01, -2.1606e-01, -1.1757e-01, -1.6654e-01,  2.1568e-01,\n",
      "          -1.2866e-01, -8.1125e-01,  3.5088e-01, -4.8867e-02,  2.8762e-01,\n",
      "           5.2548e-01],\n",
      "         [-4.8537e-01, -1.7709e-01, -1.4241e-01, -8.6774e-02,  1.8767e-01,\n",
      "           2.4047e-01, -1.1890e-01, -3.5266e-02, -1.6079e-01,  2.6915e-01,\n",
      "          -2.3491e-01, -5.9267e-01,  2.8670e-01, -9.3016e-02,  1.5208e-01,\n",
      "           4.7069e-01],\n",
      "         [-2.0937e-01, -4.9997e-01,  3.0089e-02,  2.6278e-02,  4.0027e-01,\n",
      "           3.8668e-01, -4.8509e-02, -1.9634e-01,  1.5292e-01,  2.7972e-01,\n",
      "          -1.8998e-01, -3.4352e-01,  1.3271e-01, -3.7630e-01, -1.5265e-01,\n",
      "           6.7971e-01],\n",
      "         [-2.7407e-01, -4.7716e-01, -7.9991e-02,  1.2313e-01,  1.8012e-01,\n",
      "           5.3627e-01, -1.8597e-01, -2.6619e-01,  5.5458e-02,  2.4125e-01,\n",
      "          -2.8742e-01, -3.3014e-01,  4.1157e-01, -1.1322e-01, -1.1412e-01,\n",
      "           5.5524e-01],\n",
      "         [-4.6375e-01, -2.0958e-01, -1.8613e-01, -1.0659e-01,  1.9394e-01,\n",
      "           2.2591e-01, -1.6627e-01, -1.7064e-01, -1.2302e-01,  2.7322e-01,\n",
      "          -2.4023e-01, -6.2574e-01,  4.4061e-01, -5.7708e-02,  1.1735e-01,\n",
      "           5.6651e-01],\n",
      "         [-3.7392e-01, -3.1744e-01, -1.0738e-01,  6.8847e-02,  1.0802e-01,\n",
      "           4.3663e-01, -1.7652e-01, -2.0464e-01, -5.4743e-02,  2.2022e-01,\n",
      "          -2.6108e-01, -4.7114e-01,  4.3402e-01, -4.3430e-02, -2.7932e-03,\n",
      "           4.6538e-01]],\n",
      "\n",
      "        [[ 2.4445e-01,  8.4035e-01,  2.8165e-01,  2.9650e-01, -2.9337e-01,\n",
      "          -7.7869e-01, -1.7718e-01, -3.7184e-01, -4.3081e-01,  1.6159e-01,\n",
      "          -3.1489e-01,  3.2850e-01,  4.0282e-01,  2.4243e-01, -7.2985e-02,\n",
      "           2.0996e-01],\n",
      "         [-1.1965e-01,  6.9427e-01,  1.7844e-01,  2.2605e-01, -4.1411e-01,\n",
      "          -7.1369e-01, -2.0516e-01, -1.5489e-01, -2.8933e-01,  2.5345e-01,\n",
      "          -2.4032e-01,  6.3090e-01,  2.8404e-01,  2.1606e-01, -1.8951e-01,\n",
      "           5.5382e-03],\n",
      "         [-2.0252e-01,  4.4055e-01,  1.3878e-01,  1.4953e-01, -5.0494e-01,\n",
      "          -7.1140e-01, -3.5329e-01, -1.6809e-01, -2.2529e-01,  3.3592e-02,\n",
      "          -1.1233e-02,  8.3965e-01,  3.0551e-01,  7.0131e-02, -2.1913e-01,\n",
      "          -1.1891e-01],\n",
      "         [ 6.2661e-02,  6.7734e-01,  1.6953e-01,  3.3961e-01, -4.3994e-01,\n",
      "          -8.1372e-01, -1.4273e-01, -3.4943e-01, -3.0961e-01,  1.7463e-01,\n",
      "          -1.8101e-01,  5.4770e-01,  4.2600e-01,  9.8989e-02, -7.3951e-02,\n",
      "           9.0373e-02],\n",
      "         [-3.8369e-02,  5.7395e-01,  2.1132e-01,  2.2375e-01, -4.1345e-01,\n",
      "          -7.9370e-01, -2.7104e-01, -2.8026e-01, -3.2188e-01,  2.1899e-02,\n",
      "          -1.3846e-01,  6.2265e-01,  4.5884e-01,  9.6118e-02, -6.8058e-02,\n",
      "           1.4307e-01],\n",
      "         [ 1.4710e-01,  7.6638e-01,  2.0393e-01,  4.0964e-01, -4.4481e-01,\n",
      "          -9.5838e-01, -1.8724e-01, -1.5385e-01, -4.7347e-01,  2.0753e-01,\n",
      "          -3.3082e-01,  3.6580e-01,  4.8217e-01,  1.5598e-01, -7.2050e-02,\n",
      "           9.7871e-02],\n",
      "         [-2.0127e-02,  7.7013e-01, -1.4085e-01,  7.2842e-01, -6.9701e-01,\n",
      "          -1.3417e+00,  1.4926e-01, -1.4563e-01, -3.2139e-01,  6.3330e-01,\n",
      "          -2.0856e-01,  2.7075e-01,  5.0436e-01,  1.3321e-01, -1.9714e-01,\n",
      "          -3.0893e-02],\n",
      "         [-8.5649e-02,  6.2456e-01,  1.7253e-01,  1.5684e-01, -4.2902e-01,\n",
      "          -6.5297e-01, -2.5594e-01, -2.2884e-01, -2.7025e-01,  1.1140e-01,\n",
      "          -1.3239e-01,  6.3156e-01,  3.1154e-01,  2.2678e-01, -2.5836e-01,\n",
      "           1.2938e-02],\n",
      "         [-1.5758e-01,  7.8248e-01,  9.4135e-02,  2.7041e-01, -5.0909e-01,\n",
      "          -8.0087e-01, -1.8495e-01,  9.9568e-02, -3.6281e-01,  3.9415e-01,\n",
      "          -3.2163e-01,  4.5750e-01,  2.5289e-01,  3.8778e-01, -4.0755e-01,\n",
      "          -1.0521e-01],\n",
      "         [-4.8739e-02,  7.6898e-01, -2.7385e-02,  5.0661e-01, -5.3702e-01,\n",
      "          -1.0072e+00,  9.2097e-02, -3.2781e-01, -2.1919e-01,  5.1990e-01,\n",
      "          -1.7025e-01,  4.2769e-01,  3.7315e-01,  1.8798e-01, -1.9513e-01,\n",
      "           3.8295e-02]]], grad_fn=<BmmBackward0>)\n",
      "Are they equal? False\n"
     ]
    }
   ],
   "source": [
    "import torch\n",
    "import torch.nn as nn\n",
    "\n",
    "model = nn.MultiheadAttention(embed_dim=16, num_heads=1, batch_first=True)\n",
    "query = torch.randn(size=(2, 10, 16))\n",
    "key = torch.randn(size=(2, 10, 16))\n",
    "value = torch.randn(size=(2, 10, 16))\n",
    "key_padding_mask = torch.tensor([\n",
    "    [True, False, False, False, True, False, False, False, False, False],\n",
    "    [False, False, False, False, True, True, False, False, False, False]\n",
    "])\n",
    "\n",
    "attn_output, attn_output_weights = model(query, key, value, key_padding_mask=key_padding_mask)\n",
    "\n",
    "# 计算 attn_output_weights 与 value 的乘积\n",
    "# attn_output_weights 的形状为 (batch_size, seq_len, seq_len)\n",
    "# value 的形状为 (batch_size, seq_len, embed_dim)\n",
    "# 我们需要进行批量矩阵乘法\n",
    "attn_output_reconstructed = torch.bmm(attn_output_weights, value)\n",
    "\n",
    "# 比较 attn_output 与 attn_output_reconstructed\n",
    "print(\"Original attn_output:\", attn_output)\n",
    "print(\"Reconstructed attn_output:\", attn_output_reconstructed)\n",
    "\n",
    "# 检查两者是否相同\n",
    "print(\"Are they equal?\", torch.allclose(attn_output, attn_output_reconstructed, atol=1e-6))"
   ]
  },
  {
   "cell_type": "code",
   "execution_count": 45,
   "metadata": {},
   "outputs": [
    {
     "data": {
      "image/png": "[encoded data removed]",
      "text/plain": [
       "<Figure size 640x480 with 2 Axes>"
      ]
     },
     "metadata": {},
     "output_type": "display_data"
    }
   ],
   "source": [
    "import seaborn as sns \n",
    "\n",
    "sns.heatmap(attn_output_weights[0].detach().numpy())\n",
    "plt.show()"
   ]
  },
  {
   "cell_type": "code",
   "execution_count": 46,
   "metadata": {},
   "outputs": [
    {
     "data": {
      "image/png": "[encoded data removed]",
      "text/plain": [
       "<Figure size 640x480 with 2 Axes>"
      ]
     },
     "metadata": {},
     "output_type": "display_data"
    }
   ],
   "source": [
    "sns.heatmap(attn_output_weights[1].detach().numpy())\n",
    "plt.show()"
   ]
  },
  {
   "cell_type": "code",
   "execution_count": null,
   "metadata": {},
   "outputs": [],
   "source": [
    "import pandas as pd\n",
    "import numpy as np\n",
    "import torch\n",
    "from torch.utils.data import Dataset, DataLoader\n",
    "\n",
    "class my_Dataset(Dataset):\n",
    "    def __init__(self, file_path, transform=None):\n",
    "        \"\"\"\n",
    "        初始化数据集。\n",
    "        \n",
    "        :param file_path: CSV 文件路径\n",
    "        :param transform: 可选的转换函数\n",
    "        \"\"\"\n",
    "        self.file_path = file_path\n",
    "        self.transform = transform\n",
    "        # 读取CSV文件的第一行来获取列数（即特征数量）\n",
    "        with open(file_path, 'r') as f:\n",
    "            self.num_features = len(f.readline().strip().split(',')) - 1  # 减1是因为第一列可能是标签\n",
    "        # 获取CSV文件的行数，用于计算数据集长度\n",
    "        self.length = sum(1 for line in open(file_path)) - 1  # 减1是因为第一行是表头\n",
    "        \n",
    "    def __len__(self):\n",
    "        return self.length\n",
    "    \n",
    "    def __getitem__(self, index):\n",
    "        \"\"\"\n",
    "        :param index: 样本的索引\n",
    "        :return: 样本数据\n",
    "        \"\"\"\n",
    "        # 从文件中读取指定索引的行\n",
    "        skip_rows = list(range(1, index + 1)) + list(range(index + 2, self.length + 1))\n",
    "        df = pd.read_csv(self.file_path, header=None, skiprows=skip_rows, usecols=range(1, self.num_features + 1))\n",
    "        sample = df.values.flatten().astype(np.float32)  # 将数据转换为float32类型\n",
    "        \n",
    "        if self.transform:\n",
    "            sample = self.transform(sample)\n",
    "        \n",
    "        return sample\n",
    "\n",
    "# 示例：定义一个转换函数\n",
    "def transform_fn(sample):\n",
    "    # 对样本执行任何必要的转换，例如归一化\n",
    "    return sample / 255.0  # 假设原始数据在0-255之间\n",
    "\n",
    "# 创建数据集实例\n",
    "dataset = my_Dataset(file_path='path_to_your_large_csv_file.csv', transform=transform_fn)\n",
    "\n",
    "# 创建DataLoader\n",
    "data_loader = DataLoader(dataset, batch_size=64, shuffle=True, num_workers=4)\n",
    "\n",
    "# 使用DataLoader\n",
    "for batch in data_loader:\n",
    "    # 在这里处理你的批次数据，例如传递给模型进行训练\n",
    "    print(batch.shape)"
   ]
  },
  {
   "cell_type": "code",
   "execution_count": 3,
   "metadata": {},
   "outputs": [
    {
     "name": "stderr",
     "output_type": "stream",
     "text": [
      "d:\\Anaconda\\envs\\torch\\lib\\site-packages\\tqdm\\auto.py:21: TqdmWarning: IProgress not found. Please update jupyter and ipywidgets. See https://ipywidgets.readthedocs.io/en/stable/user_install.html\n",
      "  from .autonotebook import tqdm as notebook_tqdm\n"
     ]
    }
   ],
   "source": [
    "import numpy as np \n",
    "import pandas as pd\n",
    "import matplotlib.pyplot as plt\n",
    "import torch  \n",
    "import torch.nn as nn\n",
    "import torch\n",
    "from torch.utils.data import Dataset, DataLoader\n",
    "from torch.nn.utils.rnn import pad_sequence"
   ]
  },
  {
   "cell_type": "code",
   "execution_count": 4,
   "metadata": {},
   "outputs": [],
   "source": [
    "import matplotlib.pyplot as plt \n",
    "\n",
    "def tokenize(gene_exp, gene_name, gene2id_dic):\n",
    "    # gene_exp: a single cell gene express vec\n",
    "    # gene_name: corresponding gene name \n",
    "    # gene2id_dic: a dictionary, key is gene_id, value is a int id, eg gene2id_dic['Slc1a2'] = 100\n",
    "\n",
    "    gene_id = [gene2id_dic[_] for _ in gene_name] #gene_name.map(gene2id_dic) \n",
    "    \n",
    "    sorted_id = np.argsort(-gene_exp, stable=True)\n",
    "    ranks = np.empty_like(sorted_id)\n",
    "    ranks[sorted_id] = np.arange(len(gene_exp))\n",
    "    return gene_id, ranks"
   ]
  },
  {
   "cell_type": "code",
   "execution_count": 2,
   "metadata": {},
   "outputs": [
    {
     "data": {
      "text/plain": [
       "'1.26.2'"
      ]
     },
     "execution_count": 2,
     "metadata": {},
     "output_type": "execute_result"
    }
   ],
   "source": [
    "np.__version__"
   ]
  },
  {
   "cell_type": "code",
   "execution_count": 12,
   "metadata": {},
   "outputs": [
    {
     "ename": "TypeError",
     "evalue": "argsort() got an unexpected keyword argument 'stable'",
     "output_type": "error",
     "traceback": [
      "\u001b[1;31m---------------------------------------------------------------------------\u001b[0m",
      "\u001b[1;31mTypeError\u001b[0m                                 Traceback (most recent call last)",
      "Cell \u001b[1;32mIn[12], line 7\u001b[0m\n\u001b[0;32m      4\u001b[0m     gene2id_dic[gene] \u001b[38;5;241m=\u001b[39m count\n\u001b[0;32m      5\u001b[0m     count \u001b[38;5;241m+\u001b[39m\u001b[38;5;241m=\u001b[39m \u001b[38;5;241m1\u001b[39m \n\u001b[1;32m----> 7\u001b[0m \u001b[43mtokenize\u001b[49m\u001b[43m(\u001b[49m\u001b[43mgene_exp\u001b[49m\u001b[43m[\u001b[49m\u001b[38;5;241;43m0\u001b[39;49m\u001b[43m,\u001b[49m\u001b[43m:\u001b[49m\u001b[38;5;241;43m10\u001b[39;49m\u001b[43m]\u001b[49m\u001b[43m,\u001b[49m\u001b[43m \u001b[49m\u001b[43mgene_name\u001b[49m\u001b[43m[\u001b[49m\u001b[43m:\u001b[49m\u001b[38;5;241;43m10\u001b[39;49m\u001b[43m]\u001b[49m\u001b[43m,\u001b[49m\u001b[43m \u001b[49m\u001b[43mgene2id_dic\u001b[49m\u001b[43m)\u001b[49m\n",
      "Cell \u001b[1;32mIn[11], line 10\u001b[0m, in \u001b[0;36mtokenize\u001b[1;34m(gene_exp, gene_name, gene2id_dic)\u001b[0m\n\u001b[0;32m      3\u001b[0m \u001b[38;5;28;01mdef\u001b[39;00m \u001b[38;5;21mtokenize\u001b[39m(gene_exp, gene_name, gene2id_dic):\n\u001b[0;32m      4\u001b[0m     \u001b[38;5;66;03m# gene_exp: a single cell gene express vec\u001b[39;00m\n\u001b[0;32m      5\u001b[0m     \u001b[38;5;66;03m# gene_name: corresponding gene name \u001b[39;00m\n\u001b[0;32m      6\u001b[0m     \u001b[38;5;66;03m# gene2id_dic: a dictionary, key is gene_id, value is a int id, eg gene2id_dic['Slc1a2'] = 100\u001b[39;00m\n\u001b[0;32m      8\u001b[0m     gene_id \u001b[38;5;241m=\u001b[39m [gene2id_dic[_] \u001b[38;5;28;01mfor\u001b[39;00m _ \u001b[38;5;129;01min\u001b[39;00m gene_name] \u001b[38;5;66;03m#gene_name.map(gene2id_dic) \u001b[39;00m\n\u001b[1;32m---> 10\u001b[0m     sorted_id \u001b[38;5;241m=\u001b[39m \u001b[43mnp\u001b[49m\u001b[38;5;241;43m.\u001b[39;49m\u001b[43margsort\u001b[49m\u001b[43m(\u001b[49m\u001b[38;5;241;43m-\u001b[39;49m\u001b[43mgene_exp\u001b[49m\u001b[43m,\u001b[49m\u001b[43m \u001b[49m\u001b[43mstable\u001b[49m\u001b[38;5;241;43m=\u001b[39;49m\u001b[38;5;28;43;01mTrue\u001b[39;49;00m\u001b[43m)\u001b[49m\n\u001b[0;32m     11\u001b[0m     ranks \u001b[38;5;241m=\u001b[39m np\u001b[38;5;241m.\u001b[39mempty_like(sorted_id)\n\u001b[0;32m     12\u001b[0m     ranks[sorted_id] \u001b[38;5;241m=\u001b[39m np\u001b[38;5;241m.\u001b[39marange(\u001b[38;5;28mlen\u001b[39m(gene_exp))\n",
      "\u001b[1;31mTypeError\u001b[0m: argsort() got an unexpected keyword argument 'stable'"
     ]
    }
   ],
   "source": [
    "gene2id_dic = {}\n",
    "count = 0\n",
    "for gene in gene_name:\n",
    "    gene2id_dic[gene] = count\n",
    "    count += 1 \n",
    "\n",
    "tokenize(gene_exp[0,:10], gene_name[:10], gene2id_dic)"
   ]
  },
  {
   "cell_type": "code",
   "execution_count": null,
   "metadata": {},
   "outputs": [],
   "source": []
  }
 ],
 "metadata": {
  "kernelspec": {
   "display_name": "d2l",
   "language": "python",
   "name": "python3"
  },
  "language_info": {
   "codemirror_mode": {
    "name": "ipython",
    "version": 3
   },
   "file_extension": ".py",
   "mimetype": "text/x-python",
   "name": "python",
   "nbconvert_exporter": "python",
   "pygments_lexer": "ipython3",
   "version": "3.9.18"
  }
 },
 "nbformat": 4,
 "nbformat_minor": 2
}
